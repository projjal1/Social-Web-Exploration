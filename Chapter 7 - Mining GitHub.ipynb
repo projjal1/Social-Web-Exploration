{
 "cells": [
  {
   "cell_type": "markdown",
   "metadata": {},
   "source": [
    "## Example 1. Programmatically obtaining a personal API access token for accessing GitHub's API"
   ]
  },
  {
   "cell_type": "code",
   "execution_count": 3,
   "metadata": {
    "collapsed": false
   },
   "outputs": [
    {
     "name": "stdout",
     "output_type": "stream",
     "text": [
      "API response: {\"message\":\"Not Found\",\"documentation_url\":\"https://docs.github.com/rest\"}\n",
      "\n",
      "Your OAuth token is {'message': 'Not Found', 'documentation_url': 'https://docs.github.com/rest'}\n"
     ]
    }
   ],
   "source": [
    "import requests\n",
    "from getpass import getpass\n",
    "import json\n",
    "\n",
    "username = 'projjal1' # Your GitHub username\n",
    "password = 'b8fbdfbae201f7b94e2df20cb9155dc0df1c1d7a' # Your GitHub password\n",
    "\n",
    "# Note that credentials will be transmitted over a secure SSL connection\n",
    "url = 'https://api.github.com/authorizations'\n",
    "note = 'Mining the Social Web, 2nd Ed.'\n",
    "post_data = {'scopes':['repo'],'note': note }\n",
    "\n",
    "response = requests.post(\n",
    "    url,\n",
    "    auth = (username, password),\n",
    "    data = json.dumps(post_data),\n",
    "    )   \n",
    "\n",
    "print (\"API response:\", response.text)\n",
    "print()\n",
    "print (\"Your OAuth token is\", response.json())\n",
    "\n",
    "# Go to https://github.com/settings/applications to revoke this token"
   ]
  },
  {
   "cell_type": "markdown",
   "metadata": {},
   "source": [
    "## Example 2. Making direct HTTP requests to GitHub's API"
   ]
  },
  {
   "cell_type": "code",
   "execution_count": 4,
   "metadata": {
    "collapsed": false
   },
   "outputs": [
    {
     "name": "stdout",
     "output_type": "stream",
     "text": [
      "{\n",
      " \"login\": \"rdempsey\",\n",
      " \"id\": 224,\n",
      " \"node_id\": \"MDQ6VXNlcjIyNA==\",\n",
      " \"avatar_url\": \"https://avatars2.githubusercontent.com/u/224?v=4\",\n",
      " \"gravatar_id\": \"\",\n",
      " \"url\": \"https://api.github.com/users/rdempsey\",\n",
      " \"html_url\": \"https://github.com/rdempsey\",\n",
      " \"followers_url\": \"https://api.github.com/users/rdempsey/followers\",\n",
      " \"following_url\": \"https://api.github.com/users/rdempsey/following{/other_user}\",\n",
      " \"gists_url\": \"https://api.github.com/users/rdempsey/gists{/gist_id}\",\n",
      " \"starred_url\": \"https://api.github.com/users/rdempsey/starred{/owner}{/repo}\",\n",
      " \"subscriptions_url\": \"https://api.github.com/users/rdempsey/subscriptions\",\n",
      " \"organizations_url\": \"https://api.github.com/users/rdempsey/orgs\",\n",
      " \"repos_url\": \"https://api.github.com/users/rdempsey/repos\",\n",
      " \"events_url\": \"https://api.github.com/users/rdempsey/events{/privacy}\",\n",
      " \"received_events_url\": \"https://api.github.com/users/rdempsey/received_events\",\n",
      " \"type\": \"User\",\n",
      " \"site_admin\": false\n",
      "}\n",
      "\n",
      "date => Tue, 17 Nov 2020 06:23:00 GMT\n",
      "content-type => application/json; charset=utf-8\n",
      "server => GitHub.com\n",
      "status => 200 OK\n",
      "cache-control => public, max-age=60, s-maxage=60\n",
      "vary => Accept, Accept-Encoding, Accept, X-Requested-With, Accept-Encoding\n",
      "etag => W/\"23dac54e58b105932347e87e04c315f6d89dca3e7915a3812c30605f4b02ff20\"\n",
      "x-github-media-type => github.v3; format=json\n",
      "link => <https://api.github.com/repositories/1040700/stargazers?page=2>; rel=\"next\", <https://api.github.com/repositories/1040700/stargazers?page=40>; rel=\"last\"\n",
      "access-control-expose-headers => ETag, Link, Location, Retry-After, X-GitHub-OTP, X-RateLimit-Limit, X-RateLimit-Remaining, X-RateLimit-Used, X-RateLimit-Reset, X-OAuth-Scopes, X-Accepted-OAuth-Scopes, X-Poll-Interval, X-GitHub-Media-Type, Deprecation, Sunset\n",
      "access-control-allow-origin => *\n",
      "strict-transport-security => max-age=31536000; includeSubdomains; preload\n",
      "x-frame-options => deny\n",
      "x-content-type-options => nosniff\n",
      "x-xss-protection => 1; mode=block\n",
      "referrer-policy => origin-when-cross-origin, strict-origin-when-cross-origin\n",
      "content-security-policy => default-src 'none'\n",
      "content-encoding => gzip\n",
      "X-Ratelimit-Limit => 60\n",
      "X-Ratelimit-Remaining => 58\n",
      "X-Ratelimit-Reset => 1605597425\n",
      "X-Ratelimit-Used => 2\n",
      "Accept-Ranges => bytes\n",
      "Transfer-Encoding => chunked\n",
      "X-GitHub-Request-Id => 168D:7BC9:70383:8BEC8:5FB36C44\n"
     ]
    }
   ],
   "source": [
    "import json\n",
    "import requests\n",
    "\n",
    "# An unauthenticated request that doesn't contain an ?access_token=xxx query string\n",
    "url = \"https://api.github.com/repos/ptwobrussell/Mining-the-Social-Web/stargazers\"\n",
    "response = requests.get(url)\n",
    "\n",
    "# Display one stargazer\n",
    "\n",
    "print (json.dumps(response.json()[0], indent=1))\n",
    "print()\n",
    "\n",
    "# Display headers\n",
    "for (k,v) in response.headers.items():\n",
    "    print (k, \"=>\", v)"
   ]
  },
  {
   "cell_type": "markdown",
   "metadata": {},
   "source": [
    "## Example 3. Using PyGithub to query for stargazers of a particular repository"
   ]
  },
  {
   "cell_type": "code",
   "execution_count": 5,
   "metadata": {
    "collapsed": false
   },
   "outputs": [
    {
     "name": "stdout",
     "output_type": "stream",
     "text": [
      "Number of stargazers 1196\n"
     ]
    }
   ],
   "source": [
    "from github import Github\n",
    "\n",
    "# XXX: Specify your own access token here\n",
    "\n",
    "ACCESS_TOKEN = 'b8fbdfbae201f7b94e2df20cb9155dc0df1c1d7a'\n",
    "\n",
    "# Specify a username and repository of interest for that user.\n",
    "\n",
    "USER = 'ptwobrussell'\n",
    "REPO = 'Mining-the-Social-Web'\n",
    "\n",
    "client = Github(ACCESS_TOKEN, per_page=100)\n",
    "user = client.get_user(USER)\n",
    "repo = user.get_repo(REPO)\n",
    "\n",
    "# Get a list of people who have bookmarked the repo.\n",
    "# Since you'll get a lazy iterator back, you have to traverse\n",
    "# it if you want to get the total number of stargazers.\n",
    "\n",
    "stargazers = [ s for s in repo.get_stargazers() ]\n",
    "print (\"Number of stargazers\", len(stargazers))"
   ]
  },
  {
   "cell_type": "code",
   "execution_count": 15,
   "metadata": {},
   "outputs": [
    {
     "name": "stdout",
     "output_type": "stream",
     "text": [
      "Found\n"
     ]
    }
   ],
   "source": [
    "#Check if you are stargazer\n",
    "for sg in stargazers:\n",
    "    if username in sg.login:\n",
    "        print(\"Found\")"
   ]
  },
  {
   "cell_type": "markdown",
   "metadata": {},
   "source": [
    "## Example 4. Constructing a trivial property graph"
   ]
  },
  {
   "cell_type": "code",
   "execution_count": 10,
   "metadata": {
    "collapsed": false
   },
   "outputs": [
    {
     "name": "stdout",
     "output_type": "stream",
     "text": [
      "Name: \n",
      "Type: DiGraph\n",
      "Number of nodes: 2\n",
      "Number of edges: 1\n",
      "Average in degree:   0.5000\n",
      "Average out degree:   0.5000\n",
      "\n",
      "Nodes: ['X', 'Y']\n",
      "Edges: [('X', 'Y')]\n",
      "\n",
      "X props: {}\n",
      "Y props: {}\n",
      "X=>Y props: {}\n",
      "\n",
      "X props: {'prop1': 'value1'}\n",
      "\n",
      "X=>Y props: {'label': 'label1'}\n"
     ]
    }
   ],
   "source": [
    "import networkx as nx\n",
    "\n",
    "# Create a directed graph\n",
    "\n",
    "g = nx.DiGraph()\n",
    "\n",
    "# Add an edge to the directed graph from X to Y\n",
    "\n",
    "g.add_edge('X', 'Y')\n",
    "\n",
    "# Print some statistics about the graph\n",
    "\n",
    "print (nx.info(g))\n",
    "print()\n",
    "\n",
    "# Get the nodes and edges from the graph\n",
    "\n",
    "print (\"Nodes:\", g.nodes())\n",
    "print (\"Edges:\", g.edges())\n",
    "print()\n",
    "\n",
    "# Get node properties\n",
    "\n",
    "print (\"X props:\", g.node['X'])\n",
    "print (\"Y props:\", g.node['Y'])\n",
    "\n",
    "# Get edge properties\n",
    "\n",
    "print (\"X=>Y props:\", g['X']['Y'])\n",
    "print()\n",
    "\n",
    "# Update a node property\n",
    "\n",
    "g.node['X'].update({'prop1' : 'value1'})\n",
    "print (\"X props:\", g.node['X'])\n",
    "print()\n",
    "\n",
    "# Update an edge property\n",
    "\n",
    "g['X']['Y'].update({'label' : 'label1'})\n",
    "print (\"X=>Y props:\", g['X']['Y'])"
   ]
  },
  {
   "cell_type": "markdown",
   "metadata": {},
   "source": [
    "## Example 5. Constructing an ego graph of a repository and its stargazers"
   ]
  },
  {
   "cell_type": "code",
   "execution_count": 11,
   "metadata": {
    "collapsed": false
   },
   "outputs": [],
   "source": [
    "# Expand the initial graph with (interest) edges pointing each direction for \n",
    "# additional people interested. Take care to ensure that user and repo nodes \n",
    "# do not collide by appending their type.\n",
    "\n",
    "import networkx as nx\n",
    "\n",
    "g = nx.DiGraph()\n",
    "g.add_node(repo.name + '(repo)', type='repo', lang=repo.language, owner=user.login)\n",
    "\n",
    "for sg in stargazers:\n",
    "    g.add_node(sg.login + '(user)', type='user')\n",
    "    g.add_edge(sg.login + '(user)', repo.name + '(repo)', type='gazes')"
   ]
  },
  {
   "cell_type": "markdown",
   "metadata": {},
   "source": [
    "## Example 6. Introducing some handy graph operations"
   ]
  },
  {
   "cell_type": "code",
   "execution_count": 16,
   "metadata": {
    "collapsed": false
   },
   "outputs": [
    {
     "name": "stdout",
     "output_type": "stream",
     "text": [
      "Name: \n",
      "Type: DiGraph\n",
      "Number of nodes: 1197\n",
      "Number of edges: 1196\n",
      "Average in degree:   0.9992\n",
      "Average out degree:   0.9992\n",
      "\n",
      "{'type': 'repo', 'lang': 'JavaScript', 'owner': 'ptwobrussell'}\n",
      "{'type': 'user'}\n",
      "\n",
      "{'type': 'gazes'}\n",
      "\n",
      "{'Mining-the-Social-Web(repo)': {'type': 'gazes'}}\n",
      "{}\n",
      "\n",
      "[]\n",
      "[('ptwobrussell(user)', 'Mining-the-Social-Web(repo)')]\n",
      "\n",
      "[('rdempsey(user)', 'Mining-the-Social-Web(repo)'), ('frac(user)', 'Mining-the-Social-Web(repo)'), ('prb(user)', 'Mining-the-Social-Web(repo)'), ('mcroydon(user)', 'Mining-the-Social-Web(repo)'), ('batasrki(user)', 'Mining-the-Social-Web(repo)'), ('twleung(user)', 'Mining-the-Social-Web(repo)'), ('kevinchiu(user)', 'Mining-the-Social-Web(repo)'), ('nikolay(user)', 'Mining-the-Social-Web(repo)'), ('tswicegood(user)', 'Mining-the-Social-Web(repo)'), ('ngpestelos(user)', 'Mining-the-Social-Web(repo)'), ('darron(user)', 'Mining-the-Social-Web(repo)'), ('brunojm(user)', 'Mining-the-Social-Web(repo)'), ('rgaidot(user)', 'Mining-the-Social-Web(repo)'), ('openweb(user)', 'Mining-the-Social-Web(repo)'), ('shanlalit(user)', 'Mining-the-Social-Web(repo)'), ('hoffmann(user)', 'Mining-the-Social-Web(repo)'), ('nacht(user)', 'Mining-the-Social-Web(repo)'), ('hectoregm(user)', 'Mining-the-Social-Web(repo)'), ('tzuryby(user)', 'Mining-the-Social-Web(repo)'), ('marksands(user)', 'Mining-the-Social-Web(repo)'), ('wbzyl(user)', 'Mining-the-Social-Web(repo)'), ('sou(user)', 'Mining-the-Social-Web(repo)'), ('magnum(user)', 'Mining-the-Social-Web(repo)'), ('suzuki(user)', 'Mining-the-Social-Web(repo)'), ('tertsch(user)', 'Mining-the-Social-Web(repo)'), ('ymirpl(user)', 'Mining-the-Social-Web(repo)'), ('sebasmagri(user)', 'Mining-the-Social-Web(repo)'), ('galvez(user)', 'Mining-the-Social-Web(repo)'), ('paulbersch(user)', 'Mining-the-Social-Web(repo)'), ('georgebellos(user)', 'Mining-the-Social-Web(repo)'), ('acadopia(user)', 'Mining-the-Social-Web(repo)'), ('ggtr1138(user)', 'Mining-the-Social-Web(repo)'), ('program247365(user)', 'Mining-the-Social-Web(repo)'), ('edwelker(user)', 'Mining-the-Social-Web(repo)'), ('hammer(user)', 'Mining-the-Social-Web(repo)'), ('jengdal(user)', 'Mining-the-Social-Web(repo)'), ('brimbrom(user)', 'Mining-the-Social-Web(repo)'), ('gar(user)', 'Mining-the-Social-Web(repo)'), ('willi(user)', 'Mining-the-Social-Web(repo)'), ('gregmoreno(user)', 'Mining-the-Social-Web(repo)'), ('rays(user)', 'Mining-the-Social-Web(repo)'), ('rayleyva(user)', 'Mining-the-Social-Web(repo)'), ('paxan(user)', 'Mining-the-Social-Web(repo)'), ('eughenes(user)', 'Mining-the-Social-Web(repo)'), ('barce(user)', 'Mining-the-Social-Web(repo)'), ('abuiles(user)', 'Mining-the-Social-Web(repo)'), ('carhartl(user)', 'Mining-the-Social-Web(repo)'), ('jexchan(user)', 'Mining-the-Social-Web(repo)'), ('yasu00000(user)', 'Mining-the-Social-Web(repo)'), ('lsinger(user)', 'Mining-the-Social-Web(repo)'), ('yy(user)', 'Mining-the-Social-Web(repo)'), ('daemianmack(user)', 'Mining-the-Social-Web(repo)'), ('ricardoalmeida(user)', 'Mining-the-Social-Web(repo)'), ('gerad(user)', 'Mining-the-Social-Web(repo)'), ('amitagrawal(user)', 'Mining-the-Social-Web(repo)'), ('swinton(user)', 'Mining-the-Social-Web(repo)'), ('polonia(user)', 'Mining-the-Social-Web(repo)'), ('fozbaca(user)', 'Mining-the-Social-Web(repo)'), ('nborwankar(user)', 'Mining-the-Social-Web(repo)'), ('macdet(user)', 'Mining-the-Social-Web(repo)'), ('Smerity(user)', 'Mining-the-Social-Web(repo)'), ('joepestro(user)', 'Mining-the-Social-Web(repo)'), ('phauly(user)', 'Mining-the-Social-Web(repo)'), ('shamiksharma(user)', 'Mining-the-Social-Web(repo)'), ('lg2046(user)', 'Mining-the-Social-Web(repo)'), ('omg(user)', 'Mining-the-Social-Web(repo)'), ('lzell(user)', 'Mining-the-Social-Web(repo)'), ('eduardocereto(user)', 'Mining-the-Social-Web(repo)'), ('kshimo69(user)', 'Mining-the-Social-Web(repo)'), ('natorro(user)', 'Mining-the-Social-Web(repo)'), ('abecciu(user)', 'Mining-the-Social-Web(repo)'), ('CaptSolo(user)', 'Mining-the-Social-Web(repo)'), ('clyfe(user)', 'Mining-the-Social-Web(repo)'), ('mahmoudimus(user)', 'Mining-the-Social-Web(repo)'), ('mznmel(user)', 'Mining-the-Social-Web(repo)'), ('Kilian(user)', 'Mining-the-Social-Web(repo)'), ('stonegao(user)', 'Mining-the-Social-Web(repo)'), ('pcdinh(user)', 'Mining-the-Social-Web(repo)'), ('jacktang(user)', 'Mining-the-Social-Web(repo)'), ('Almad(user)', 'Mining-the-Social-Web(repo)'), ('sleeptillseven(user)', 'Mining-the-Social-Web(repo)'), ('Kudo(user)', 'Mining-the-Social-Web(repo)'), ('acdha(user)', 'Mining-the-Social-Web(repo)'), ('ticean(user)', 'Mining-the-Social-Web(repo)'), ('buffpojken(user)', 'Mining-the-Social-Web(repo)'), ('bnvk(user)', 'Mining-the-Social-Web(repo)'), ('zen4ever(user)', 'Mining-the-Social-Web(repo)'), ('bpeirce(user)', 'Mining-the-Social-Web(repo)'), ('metllord(user)', 'Mining-the-Social-Web(repo)'), ('macdiva(user)', 'Mining-the-Social-Web(repo)'), ('miukal(user)', 'Mining-the-Social-Web(repo)'), ('miyucy(user)', 'Mining-the-Social-Web(repo)'), ('valentinzberea(user)', 'Mining-the-Social-Web(repo)'), ('Tuxified(user)', 'Mining-the-Social-Web(repo)'), ('miku(user)', 'Mining-the-Social-Web(repo)'), ('daevid(user)', 'Mining-the-Social-Web(repo)'), ('lemonad(user)', 'Mining-the-Social-Web(repo)'), ('Xeoncross(user)', 'Mining-the-Social-Web(repo)'), ('shurik(user)', 'Mining-the-Social-Web(repo)'), ('zonovo(user)', 'Mining-the-Social-Web(repo)'), ('matagus(user)', 'Mining-the-Social-Web(repo)'), ('phernandez(user)', 'Mining-the-Social-Web(repo)'), ('vshulyak(user)', 'Mining-the-Social-Web(repo)'), ('elg0nz(user)', 'Mining-the-Social-Web(repo)'), ('jonathanjo(user)', 'Mining-the-Social-Web(repo)'), ('rduong(user)', 'Mining-the-Social-Web(repo)'), ('sfrench(user)', 'Mining-the-Social-Web(repo)'), ('edtechdev(user)', 'Mining-the-Social-Web(repo)'), ('vvoody(user)', 'Mining-the-Social-Web(repo)'), ('riivo(user)', 'Mining-the-Social-Web(repo)'), ('doolin(user)', 'Mining-the-Social-Web(repo)'), ('even4void(user)', 'Mining-the-Social-Web(repo)'), ('lrvick(user)', 'Mining-the-Social-Web(repo)'), ('cameronpriest(user)', 'Mining-the-Social-Web(repo)'), ('napo(user)', 'Mining-the-Social-Web(repo)'), ('ukituki(user)', 'Mining-the-Social-Web(repo)'), ('blynch(user)', 'Mining-the-Social-Web(repo)'), ('adriaant(user)', 'Mining-the-Social-Web(repo)'), ('mgrouchy(user)', 'Mining-the-Social-Web(repo)'), ('InFog(user)', 'Mining-the-Social-Web(repo)'), ('rnagle(user)', 'Mining-the-Social-Web(repo)'), ('macorama(user)', 'Mining-the-Social-Web(repo)'), ('mki(user)', 'Mining-the-Social-Web(repo)'), ('dasfaha(user)', 'Mining-the-Social-Web(repo)'), ('jagguli(user)', 'Mining-the-Social-Web(repo)'), ('davidrd123(user)', 'Mining-the-Social-Web(repo)'), ('darkseed(user)', 'Mining-the-Social-Web(repo)'), ('bjpcjp(user)', 'Mining-the-Social-Web(repo)'), ('jonathanyee(user)', 'Mining-the-Social-Web(repo)'), ('jensenrf(user)', 'Mining-the-Social-Web(repo)'), ('levigross(user)', 'Mining-the-Social-Web(repo)'), ('BrianPin(user)', 'Mining-the-Social-Web(repo)'), ('nycterent(user)', 'Mining-the-Social-Web(repo)'), ('lyddonb(user)', 'Mining-the-Social-Web(repo)'), ('putorti(user)', 'Mining-the-Social-Web(repo)'), ('vigo(user)', 'Mining-the-Social-Web(repo)'), ('MaggiePlusPlus(user)', 'Mining-the-Social-Web(repo)'), ('Stecki(user)', 'Mining-the-Social-Web(repo)'), ('jean(user)', 'Mining-the-Social-Web(repo)'), ('ido(user)', 'Mining-the-Social-Web(repo)'), ('brianly(user)', 'Mining-the-Social-Web(repo)'), ('kcnickerson(user)', 'Mining-the-Social-Web(repo)'), ('seralf(user)', 'Mining-the-Social-Web(repo)'), ('kemaltaskin(user)', 'Mining-the-Social-Web(repo)'), ('trevorhales(user)', 'Mining-the-Social-Web(repo)'), ('jonhurlock(user)', 'Mining-the-Social-Web(repo)'), ('zmughal(user)', 'Mining-the-Social-Web(repo)'), ('ykhroki(user)', 'Mining-the-Social-Web(repo)'), ('johnthedebs(user)', 'Mining-the-Social-Web(repo)'), ('ptwobrussell(user)', 'Mining-the-Social-Web(repo)'), ('bububa(user)', 'Mining-the-Social-Web(repo)'), ('barbietunnie(user)', 'Mining-the-Social-Web(repo)'), ('hezila(user)', 'Mining-the-Social-Web(repo)'), ('sudar(user)', 'Mining-the-Social-Web(repo)'), ('klaut(user)', 'Mining-the-Social-Web(repo)'), ('analyticsPierce(user)', 'Mining-the-Social-Web(repo)'), ('alessandroleite(user)', 'Mining-the-Social-Web(repo)'), ('cb372(user)', 'Mining-the-Social-Web(repo)'), ('opexxx(user)', 'Mining-the-Social-Web(repo)'), ('EugeneLiang(user)', 'Mining-the-Social-Web(repo)'), ('sammyrulez(user)', 'Mining-the-Social-Web(repo)'), ('miron(user)', 'Mining-the-Social-Web(repo)'), ('girish(user)', 'Mining-the-Social-Web(repo)'), ('mlaprise(user)', 'Mining-the-Social-Web(repo)'), ('cacciaresi(user)', 'Mining-the-Social-Web(repo)'), ('amygdala(user)', 'Mining-the-Social-Web(repo)'), ('jgrosche(user)', 'Mining-the-Social-Web(repo)'), ('kkovacs(user)', 'Mining-the-Social-Web(repo)'), ('kennethreitz42(user)', 'Mining-the-Social-Web(repo)'), ('lesbleus2007(user)', 'Mining-the-Social-Web(repo)'), ('manboubird(user)', 'Mining-the-Social-Web(repo)'), ('miclovich(user)', 'Mining-the-Social-Web(repo)'), ('dudarev(user)', 'Mining-the-Social-Web(repo)'), ('aaronlifton3(user)', 'Mining-the-Social-Web(repo)'), ('dhiemazt(user)', 'Mining-the-Social-Web(repo)'), ('ustramooner(user)', 'Mining-the-Social-Web(repo)'), ('ygbr(user)', 'Mining-the-Social-Web(repo)'), ('FranklinChen(user)', 'Mining-the-Social-Web(repo)'), ('caseysoftware(user)', 'Mining-the-Social-Web(repo)'), ('jakobzhao(user)', 'Mining-the-Social-Web(repo)'), ('gr33ndata(user)', 'Mining-the-Social-Web(repo)'), ('cmlh(user)', 'Mining-the-Social-Web(repo)'), ('supaket(user)', 'Mining-the-Social-Web(repo)'), ('matsu911(user)', 'Mining-the-Social-Web(repo)'), ('elimisteve(user)', 'Mining-the-Social-Web(repo)'), ('brianjolly(user)', 'Mining-the-Social-Web(repo)'), ('nisc(user)', 'Mining-the-Social-Web(repo)'), ('joshz(user)', 'Mining-the-Social-Web(repo)'), ('liulinyang(user)', 'Mining-the-Social-Web(repo)'), ('bcambel(user)', 'Mining-the-Social-Web(repo)'), ('negrond(user)', 'Mining-the-Social-Web(repo)'), ('nada(user)', 'Mining-the-Social-Web(repo)'), ('yogeshc(user)', 'Mining-the-Social-Web(repo)'), ('henrikno(user)', 'Mining-the-Social-Web(repo)'), ('anentropic(user)', 'Mining-the-Social-Web(repo)'), ('denisarnaud(user)', 'Mining-the-Social-Web(repo)'), ('blackerby(user)', 'Mining-the-Social-Web(repo)'), ('mikedorseyjr(user)', 'Mining-the-Social-Web(repo)'), ('wojtha(user)', 'Mining-the-Social-Web(repo)'), ('ichim-david(user)', 'Mining-the-Social-Web(repo)'), ('anirudhjoshi(user)', 'Mining-the-Social-Web(repo)'), ('masroor(user)', 'Mining-the-Social-Web(repo)'), ('slacy(user)', 'Mining-the-Social-Web(repo)'), ('swix(user)', 'Mining-the-Social-Web(repo)'), ('todrobbins(user)', 'Mining-the-Social-Web(repo)'), ('UniIsland(user)', 'Mining-the-Social-Web(repo)'), ('pinoystartup(user)', 'Mining-the-Social-Web(repo)'), ('soarer(user)', 'Mining-the-Social-Web(repo)'), ('jackylee(user)', 'Mining-the-Social-Web(repo)'), ('manav(user)', 'Mining-the-Social-Web(repo)'), ('cpatni(user)', 'Mining-the-Social-Web(repo)'), ('evandrix(user)', 'Mining-the-Social-Web(repo)'), ('nabeelmukhtar(user)', 'Mining-the-Social-Web(repo)'), ('1rick(user)', 'Mining-the-Social-Web(repo)'), ('digvan(user)', 'Mining-the-Social-Web(repo)'), ('kuntoaji(user)', 'Mining-the-Social-Web(repo)'), ('bjzu(user)', 'Mining-the-Social-Web(repo)'), ('dougapd(user)', 'Mining-the-Social-Web(repo)'), ('hardisty(user)', 'Mining-the-Social-Web(repo)'), ('harit-sunrun(user)', 'Mining-the-Social-Web(repo)'), ('vanderwal(user)', 'Mining-the-Social-Web(repo)'), ('wernerramaekers(user)', 'Mining-the-Social-Web(repo)'), ('mikedory(user)', 'Mining-the-Social-Web(repo)'), ('bisko(user)', 'Mining-the-Social-Web(repo)'), ('zerojarvis(user)', 'Mining-the-Social-Web(repo)'), ('allengaller(user)', 'Mining-the-Social-Web(repo)'), ('zolizoli(user)', 'Mining-the-Social-Web(repo)'), ('csuper(user)', 'Mining-the-Social-Web(repo)'), ('keokilee(user)', 'Mining-the-Social-Web(repo)'), ('tishon(user)', 'Mining-the-Social-Web(repo)'), ('shaunc(user)', 'Mining-the-Social-Web(repo)'), ('knightmind(user)', 'Mining-the-Social-Web(repo)'), ('twidi(user)', 'Mining-the-Social-Web(repo)'), ('fasouto(user)', 'Mining-the-Social-Web(repo)'), ('michaelwills(user)', 'Mining-the-Social-Web(repo)'), ('ndarville(user)', 'Mining-the-Social-Web(repo)'), ('furukama(user)', 'Mining-the-Social-Web(repo)'), ('Nooby(user)', 'Mining-the-Social-Web(repo)'), ('tomconte(user)', 'Mining-the-Social-Web(repo)'), ('oweidner(user)', 'Mining-the-Social-Web(repo)'), ('eraldcoil(user)', 'Mining-the-Social-Web(repo)'), ('jhaus(user)', 'Mining-the-Social-Web(repo)'), ('bryantology(user)', 'Mining-the-Social-Web(repo)'), ('matiskay(user)', 'Mining-the-Social-Web(repo)'), ('Btibert3(user)', 'Mining-the-Social-Web(repo)'), ('vmharrel(user)', 'Mining-the-Social-Web(repo)'), ('guiambros(user)', 'Mining-the-Social-Web(repo)'), ('benregn(user)', 'Mining-the-Social-Web(repo)'), ('panckreous(user)', 'Mining-the-Social-Web(repo)'), ('kevinbluer(user)', 'Mining-the-Social-Web(repo)'), ('eiriks(user)', 'Mining-the-Social-Web(repo)'), ('japerk(user)', 'Mining-the-Social-Web(repo)'), ('mikhailxu(user)', 'Mining-the-Social-Web(repo)'), ('michaeldhealy(user)', 'Mining-the-Social-Web(repo)'), ('cegme(user)', 'Mining-the-Social-Web(repo)'), ('drelu(user)', 'Mining-the-Social-Web(repo)'), ('samesense(user)', 'Mining-the-Social-Web(repo)'), ('osiloke(user)', 'Mining-the-Social-Web(repo)'), ('mt3(user)', 'Mining-the-Social-Web(repo)'), ('lucianosb(user)', 'Mining-the-Social-Web(repo)'), ('joshbhamilton(user)', 'Mining-the-Social-Web(repo)'), ('seancron(user)', 'Mining-the-Social-Web(repo)'), ('Zolomon(user)', 'Mining-the-Social-Web(repo)'), ('mfalcon(user)', 'Mining-the-Social-Web(repo)'), ('studiomaestro(user)', 'Mining-the-Social-Web(repo)'), ('msonsona(user)', 'Mining-the-Social-Web(repo)'), ('judywawira(user)', 'Mining-the-Social-Web(repo)'), ('cmcgovern(user)', 'Mining-the-Social-Web(repo)'), ('jmshoffs0812(user)', 'Mining-the-Social-Web(repo)'), ('mpac(user)', 'Mining-the-Social-Web(repo)'), ('jpendry(user)', 'Mining-the-Social-Web(repo)'), ('burakerdem(user)', 'Mining-the-Social-Web(repo)'), ('jah2488(user)', 'Mining-the-Social-Web(repo)'), ('dworznik(user)', 'Mining-the-Social-Web(repo)'), ('mattzarzecki(user)', 'Mining-the-Social-Web(repo)'), ('dan0(user)', 'Mining-the-Social-Web(repo)'), ('Gonzillaaa(user)', 'Mining-the-Social-Web(repo)'), ('ssx(user)', 'Mining-the-Social-Web(repo)'), ('jumping(user)', 'Mining-the-Social-Web(repo)'), ('beibeiyang(user)', 'Mining-the-Social-Web(repo)'), ('nfx(user)', 'Mining-the-Social-Web(repo)'), ('erainey(user)', 'Mining-the-Social-Web(repo)'), ('kencochrane(user)', 'Mining-the-Social-Web(repo)'), ('alixaxel(user)', 'Mining-the-Social-Web(repo)'), ('rfinkers(user)', 'Mining-the-Social-Web(repo)'), ('LuRsT(user)', 'Mining-the-Social-Web(repo)'), ('bobdia(user)', 'Mining-the-Social-Web(repo)'), ('arnim(user)', 'Mining-the-Social-Web(repo)'), ('pxue(user)', 'Mining-the-Social-Web(repo)'), ('futurespective(user)', 'Mining-the-Social-Web(repo)'), ('whitefoxx(user)', 'Mining-the-Social-Web(repo)'), ('orlandoferrer(user)', 'Mining-the-Social-Web(repo)'), ('dcloud(user)', 'Mining-the-Social-Web(repo)'), ('flyabroad(user)', 'Mining-the-Social-Web(repo)'), ('torsday(user)', 'Mining-the-Social-Web(repo)'), ('bngoogle(user)', 'Mining-the-Social-Web(repo)'), ('rukku(user)', 'Mining-the-Social-Web(repo)'), ('hertzel(user)', 'Mining-the-Social-Web(repo)'), ('patrickclancy(user)', 'Mining-the-Social-Web(repo)'), ('akondylis(user)', 'Mining-the-Social-Web(repo)'), ('jrstanley(user)', 'Mining-the-Social-Web(repo)'), ('sjwilliams(user)', 'Mining-the-Social-Web(repo)'), ('frfeni(user)', 'Mining-the-Social-Web(repo)'), ('ayaniimi213(user)', 'Mining-the-Social-Web(repo)'), ('tschloss(user)', 'Mining-the-Social-Web(repo)'), ('javouhey(user)', 'Mining-the-Social-Web(repo)'), ('conditionalogic(user)', 'Mining-the-Social-Web(repo)'), ('mengD(user)', 'Mining-the-Social-Web(repo)'), ('theresia(user)', 'Mining-the-Social-Web(repo)'), ('lilylabo(user)', 'Mining-the-Social-Web(repo)'), ('rytis(user)', 'Mining-the-Social-Web(repo)'), ('gawry(user)', 'Mining-the-Social-Web(repo)'), ('semantium(user)', 'Mining-the-Social-Web(repo)'), ('gawbul(user)', 'Mining-the-Social-Web(repo)'), ('briatte(user)', 'Mining-the-Social-Web(repo)'), ('amanahuja(user)', 'Mining-the-Social-Web(repo)'), ('jakubroztocil(user)', 'Mining-the-Social-Web(repo)'), ('masdude(user)', 'Mining-the-Social-Web(repo)'), ('jasonbogovich(user)', 'Mining-the-Social-Web(repo)'), ('amitkumar01(user)', 'Mining-the-Social-Web(repo)'), ('gdberrio(user)', 'Mining-the-Social-Web(repo)'), ('alessioalex(user)', 'Mining-the-Social-Web(repo)'), ('shotaatago(user)', 'Mining-the-Social-Web(repo)'), ('c0der007(user)', 'Mining-the-Social-Web(repo)'), ('gravitymonkey(user)', 'Mining-the-Social-Web(repo)'), ('pqnga(user)', 'Mining-the-Social-Web(repo)'), ('rabit(user)', 'Mining-the-Social-Web(repo)'), ('sraghav(user)', 'Mining-the-Social-Web(repo)'), ('w1mvy(user)', 'Mining-the-Social-Web(repo)'), ('Prufrock1(user)', 'Mining-the-Social-Web(repo)'), ('adivik2000(user)', 'Mining-the-Social-Web(repo)'), ('folkengine(user)', 'Mining-the-Social-Web(repo)'), ('collardb(user)', 'Mining-the-Social-Web(repo)'), ('rickschmoo(user)', 'Mining-the-Social-Web(repo)'), ('BENGMN(user)', 'Mining-the-Social-Web(repo)'), ('ypxu(user)', 'Mining-the-Social-Web(repo)'), ('hite(user)', 'Mining-the-Social-Web(repo)'), ('albertsun(user)', 'Mining-the-Social-Web(repo)'), ('JT5D(user)', 'Mining-the-Social-Web(repo)'), ('pygloo(user)', 'Mining-the-Social-Web(repo)'), ('rbarraud(user)', 'Mining-the-Social-Web(repo)'), ('kyrcha(user)', 'Mining-the-Social-Web(repo)'), ('taoyu(user)', 'Mining-the-Social-Web(repo)'), ('fone4u(user)', 'Mining-the-Social-Web(repo)'), ('gaohao(user)', 'Mining-the-Social-Web(repo)'), ('degiere(user)', 'Mining-the-Social-Web(repo)'), ('oliverc(user)', 'Mining-the-Social-Web(repo)'), ('douglas(user)', 'Mining-the-Social-Web(repo)'), ('mikeloukides(user)', 'Mining-the-Social-Web(repo)'), ('butterwick(user)', 'Mining-the-Social-Web(repo)'), ('amejiarosario(user)', 'Mining-the-Social-Web(repo)'), ('iroid(user)', 'Mining-the-Social-Web(repo)'), ('jquattrocchi(user)', 'Mining-the-Social-Web(repo)'), ('ismaild(user)', 'Mining-the-Social-Web(repo)'), ('ngopal(user)', 'Mining-the-Social-Web(repo)'), ('zgw21cn(user)', 'Mining-the-Social-Web(repo)'), ('ardalahmet(user)', 'Mining-the-Social-Web(repo)'), ('webmaven(user)', 'Mining-the-Social-Web(repo)'), ('realoptimal(user)', 'Mining-the-Social-Web(repo)'), ('jwsy(user)', 'Mining-the-Social-Web(repo)'), ('hanula(user)', 'Mining-the-Social-Web(repo)'), ('peicheng(user)', 'Mining-the-Social-Web(repo)'), ('SamLebarbare(user)', 'Mining-the-Social-Web(repo)'), ('pedrokoblitz(user)', 'Mining-the-Social-Web(repo)'), ('darkfall(user)', 'Mining-the-Social-Web(repo)'), ('chuckchen(user)', 'Mining-the-Social-Web(repo)'), ('th0ma5w(user)', 'Mining-the-Social-Web(repo)'), ('ramkrsna(user)', 'Mining-the-Social-Web(repo)'), ('hanksudo(user)', 'Mining-the-Social-Web(repo)'), ('liuzz1983(user)', 'Mining-the-Social-Web(repo)'), ('deathcape(user)', 'Mining-the-Social-Web(repo)'), ('ahmads(user)', 'Mining-the-Social-Web(repo)'), ('deepblue-phoenix(user)', 'Mining-the-Social-Web(repo)'), ('dcj(user)', 'Mining-the-Social-Web(repo)'), ('stumm(user)', 'Mining-the-Social-Web(repo)'), ('redy(user)', 'Mining-the-Social-Web(repo)'), ('tikums(user)', 'Mining-the-Social-Web(repo)'), ('chihuanqi(user)', 'Mining-the-Social-Web(repo)'), ('shuhei(user)', 'Mining-the-Social-Web(repo)'), ('torazuka(user)', 'Mining-the-Social-Web(repo)'), ('moutai(user)', 'Mining-the-Social-Web(repo)'), ('pantelis(user)', 'Mining-the-Social-Web(repo)'), ('JohnStuartRutledge(user)', 'Mining-the-Social-Web(repo)'), ('cicuz(user)', 'Mining-the-Social-Web(repo)'), ('nbyloff(user)', 'Mining-the-Social-Web(repo)'), ('dotpot(user)', 'Mining-the-Social-Web(repo)'), ('sleyzerzon(user)', 'Mining-the-Social-Web(repo)'), ('gkhnlts(user)', 'Mining-the-Social-Web(repo)'), ('jasonyaw(user)', 'Mining-the-Social-Web(repo)'), ('Basphil(user)', 'Mining-the-Social-Web(repo)'), ('octoberman(user)', 'Mining-the-Social-Web(repo)'), ('ProximaMonkey(user)', 'Mining-the-Social-Web(repo)'), ('andypiper(user)', 'Mining-the-Social-Web(repo)'), ('skpatidar(user)', 'Mining-the-Social-Web(repo)'), ('billday(user)', 'Mining-the-Social-Web(repo)'), ('semerda(user)', 'Mining-the-Social-Web(repo)'), ('ehmo(user)', 'Mining-the-Social-Web(repo)'), ('paulgoggin(user)', 'Mining-the-Social-Web(repo)'), ('bzak(user)', 'Mining-the-Social-Web(repo)'), ('maurorodrigues(user)', 'Mining-the-Social-Web(repo)'), ('zambrose(user)', 'Mining-the-Social-Web(repo)'), ('bin3(user)', 'Mining-the-Social-Web(repo)'), ('IbrahimCanada(user)', 'Mining-the-Social-Web(repo)'), ('madsurgeon(user)', 'Mining-the-Social-Web(repo)'), ('JacekAmbroziak(user)', 'Mining-the-Social-Web(repo)'), ('steverife(user)', 'Mining-the-Social-Web(repo)'), ('gregrahn(user)', 'Mining-the-Social-Web(repo)'), ('lulstrup(user)', 'Mining-the-Social-Web(repo)'), ('sukottokun(user)', 'Mining-the-Social-Web(repo)'), ('aminert(user)', 'Mining-the-Social-Web(repo)'), ('yifudiao(user)', 'Mining-the-Social-Web(repo)'), ('quakerpunk(user)', 'Mining-the-Social-Web(repo)'), ('janetyc(user)', 'Mining-the-Social-Web(repo)'), ('bcattle(user)', 'Mining-the-Social-Web(repo)'), ('Doppp(user)', 'Mining-the-Social-Web(repo)'), ('motord(user)', 'Mining-the-Social-Web(repo)'), ('rasper121(user)', 'Mining-the-Social-Web(repo)'), ('manesiotise(user)', 'Mining-the-Social-Web(repo)'), ('csjones(user)', 'Mining-the-Social-Web(repo)'), ('joskid(user)', 'Mining-the-Social-Web(repo)'), ('shijinkui(user)', 'Mining-the-Social-Web(repo)'), ('jcamacaro(user)', 'Mining-the-Social-Web(repo)'), ('phillpafford(user)', 'Mining-the-Social-Web(repo)'), ('kod3r(user)', 'Mining-the-Social-Web(repo)'), ('zhouzhuojie(user)', 'Mining-the-Social-Web(repo)'), ('mdyang(user)', 'Mining-the-Social-Web(repo)'), ('odewahn(user)', 'Mining-the-Social-Web(repo)'), ('jessegahlla(user)', 'Mining-the-Social-Web(repo)'), ('frankk00(user)', 'Mining-the-Social-Web(repo)'), ('sp0rus(user)', 'Mining-the-Social-Web(repo)'), ('t3j45(user)', 'Mining-the-Social-Web(repo)'), ('korn-kutan(user)', 'Mining-the-Social-Web(repo)'), ('robbfitzsimmons(user)', 'Mining-the-Social-Web(repo)'), ('deusnet(user)', 'Mining-the-Social-Web(repo)'), ('sivagao(user)', 'Mining-the-Social-Web(repo)'), ('treper(user)', 'Mining-the-Social-Web(repo)'), ('robstrange(user)', 'Mining-the-Social-Web(repo)'), ('katychuang(user)', 'Mining-the-Social-Web(repo)'), ('andrewdanks(user)', 'Mining-the-Social-Web(repo)'), ('pparo(user)', 'Mining-the-Social-Web(repo)'), ('joohnnie(user)', 'Mining-the-Social-Web(repo)'), ('tranminhan(user)', 'Mining-the-Social-Web(repo)'), ('edglazer(user)', 'Mining-the-Social-Web(repo)'), ('Guillrmo(user)', 'Mining-the-Social-Web(repo)'), ('tigerjh(user)', 'Mining-the-Social-Web(repo)'), ('edfine(user)', 'Mining-the-Social-Web(repo)'), ('bearzx(user)', 'Mining-the-Social-Web(repo)'), ('superfine(user)', 'Mining-the-Social-Web(repo)'), ('srinatar(user)', 'Mining-the-Social-Web(repo)'), ('JosephLaurino(user)', 'Mining-the-Social-Web(repo)'), ('laranea(user)', 'Mining-the-Social-Web(repo)'), ('jdzeil(user)', 'Mining-the-Social-Web(repo)'), ('stefaneyr(user)', 'Mining-the-Social-Web(repo)'), ('sfahad46(user)', 'Mining-the-Social-Web(repo)'), ('ikegami-yukino(user)', 'Mining-the-Social-Web(repo)'), ('surecc(user)', 'Mining-the-Social-Web(repo)'), ('kharakawa(user)', 'Mining-the-Social-Web(repo)'), ('joliva(user)', 'Mining-the-Social-Web(repo)'), ('espeed(user)', 'Mining-the-Social-Web(repo)'), ('nine9s(user)', 'Mining-the-Social-Web(repo)'), ('vinay631(user)', 'Mining-the-Social-Web(repo)'), ('ikari-pl(user)', 'Mining-the-Social-Web(repo)'), ('nelliemckesson(user)', 'Mining-the-Social-Web(repo)'), ('blooberr(user)', 'Mining-the-Social-Web(repo)'), ('nicib83(user)', 'Mining-the-Social-Web(repo)'), ('donigian(user)', 'Mining-the-Social-Web(repo)'), ('sunchengjie(user)', 'Mining-the-Social-Web(repo)'), ('msbanik(user)', 'Mining-the-Social-Web(repo)'), ('clwen(user)', 'Mining-the-Social-Web(repo)'), ('klgraham(user)', 'Mining-the-Social-Web(repo)'), ('GuosongChen(user)', 'Mining-the-Social-Web(repo)'), ('aboutaaron(user)', 'Mining-the-Social-Web(repo)'), ('jineshpaloor(user)', 'Mining-the-Social-Web(repo)'), ('boskaiolo(user)', 'Mining-the-Social-Web(repo)'), ('neko1990(user)', 'Mining-the-Social-Web(repo)'), ('mrmvergeer(user)', 'Mining-the-Social-Web(repo)'), ('firesofmay(user)', 'Mining-the-Social-Web(repo)'), ('srbjwe(user)', 'Mining-the-Social-Web(repo)'), ('dr00(user)', 'Mining-the-Social-Web(repo)'), ('mrcrabby(user)', 'Mining-the-Social-Web(repo)'), ('MadDataScience(user)', 'Mining-the-Social-Web(repo)'), ('danielpreotiuc(user)', 'Mining-the-Social-Web(repo)'), ('olovholm(user)', 'Mining-the-Social-Web(repo)'), ('yangdahui(user)', 'Mining-the-Social-Web(repo)'), ('ayakix(user)', 'Mining-the-Social-Web(repo)'), ('richallensf(user)', 'Mining-the-Social-Web(repo)'), ('themiurgo(user)', 'Mining-the-Social-Web(repo)'), ('slojo404(user)', 'Mining-the-Social-Web(repo)'), ('daseme(user)', 'Mining-the-Social-Web(repo)'), ('abousha(user)', 'Mining-the-Social-Web(repo)'), ('Sdmattpotter(user)', 'Mining-the-Social-Web(repo)'), ('majahn(user)', 'Mining-the-Social-Web(repo)'), ('benjikraft(user)', 'Mining-the-Social-Web(repo)'), ('ardendertat(user)', 'Mining-the-Social-Web(repo)'), ('dgryski(user)', 'Mining-the-Social-Web(repo)'), ('lkrids(user)', 'Mining-the-Social-Web(repo)'), ('iwanbk(user)', 'Mining-the-Social-Web(repo)'), ('jbreger(user)', 'Mining-the-Social-Web(repo)'), ('norri(user)', 'Mining-the-Social-Web(repo)'), ('ConceptKreator(user)', 'Mining-the-Social-Web(repo)'), ('BrentAuble(user)', 'Mining-the-Social-Web(repo)'), ('bootstrapt(user)', 'Mining-the-Social-Web(repo)'), ('djFFFFF(user)', 'Mining-the-Social-Web(repo)'), ('gui11aume(user)', 'Mining-the-Social-Web(repo)'), ('tomze(user)', 'Mining-the-Social-Web(repo)'), ('bugrax(user)', 'Mining-the-Social-Web(repo)'), ('echoapp(user)', 'Mining-the-Social-Web(repo)'), ('ndunnage(user)', 'Mining-the-Social-Web(repo)'), ('marco-s(user)', 'Mining-the-Social-Web(repo)'), ('nellaivijay(user)', 'Mining-the-Social-Web(repo)'), ('claudeck(user)', 'Mining-the-Social-Web(repo)'), ('mmccaff(user)', 'Mining-the-Social-Web(repo)'), ('phildionne(user)', 'Mining-the-Social-Web(repo)'), ('dylanthomas(user)', 'Mining-the-Social-Web(repo)'), ('jcesargithl(user)', 'Mining-the-Social-Web(repo)'), ('invinciblejha(user)', 'Mining-the-Social-Web(repo)'), ('takuan-osho(user)', 'Mining-the-Social-Web(repo)'), ('pors(user)', 'Mining-the-Social-Web(repo)'), ('SathishRaju(user)', 'Mining-the-Social-Web(repo)'), ('IAbuElRuzz(user)', 'Mining-the-Social-Web(repo)'), ('aburan28(user)', 'Mining-the-Social-Web(repo)'), ('morpheme(user)', 'Mining-the-Social-Web(repo)'), ('nhnmomonga(user)', 'Mining-the-Social-Web(repo)'), ('chu052(user)', 'Mining-the-Social-Web(repo)'), ('lmmsoft(user)', 'Mining-the-Social-Web(repo)'), ('nbartels(user)', 'Mining-the-Social-Web(repo)'), ('omarberg(user)', 'Mining-the-Social-Web(repo)'), ('xiaxianzhi(user)', 'Mining-the-Social-Web(repo)'), ('knapsack(user)', 'Mining-the-Social-Web(repo)'), ('jtmhom88(user)', 'Mining-the-Social-Web(repo)'), ('retrobabel(user)', 'Mining-the-Social-Web(repo)'), ('HandyAndyShortStack(user)', 'Mining-the-Social-Web(repo)'), ('nvoa2358(user)', 'Mining-the-Social-Web(repo)'), ('huhupao(user)', 'Mining-the-Social-Web(repo)'), ('TomiToivio(user)', 'Mining-the-Social-Web(repo)'), ('sirithink(user)', 'Mining-the-Social-Web(repo)'), ('virajkulkarni14(user)', 'Mining-the-Social-Web(repo)'), ('hejibo(user)', 'Mining-the-Social-Web(repo)'), ('gabrielluong(user)', 'Mining-the-Social-Web(repo)'), ('shenli(user)', 'Mining-the-Social-Web(repo)'), ('annoit(user)', 'Mining-the-Social-Web(repo)'), ('DanielleSucher(user)', 'Mining-the-Social-Web(repo)'), ('JonWeinberg(user)', 'Mining-the-Social-Web(repo)'), ('davyfeng(user)', 'Mining-the-Social-Web(repo)'), ('van5150(user)', 'Mining-the-Social-Web(repo)'), ('mtayseer(user)', 'Mining-the-Social-Web(repo)'), ('roppen(user)', 'Mining-the-Social-Web(repo)'), ('netjack(user)', 'Mining-the-Social-Web(repo)'), ('cdesch(user)', 'Mining-the-Social-Web(repo)'), ('arthur-e(user)', 'Mining-the-Social-Web(repo)'), ('gcornejo(user)', 'Mining-the-Social-Web(repo)'), ('zakobyte(user)', 'Mining-the-Social-Web(repo)'), ('sunan(user)', 'Mining-the-Social-Web(repo)'), ('waterfox0323(user)', 'Mining-the-Social-Web(repo)'), ('empjustine(user)', 'Mining-the-Social-Web(repo)'), ('udooz(user)', 'Mining-the-Social-Web(repo)'), ('Imior(user)', 'Mining-the-Social-Web(repo)'), ('nava45(user)', 'Mining-the-Social-Web(repo)'), ('colfire(user)', 'Mining-the-Social-Web(repo)'), ('predmach(user)', 'Mining-the-Social-Web(repo)'), ('amckenna(user)', 'Mining-the-Social-Web(repo)'), ('prod-man(user)', 'Mining-the-Social-Web(repo)'), ('liule(user)', 'Mining-the-Social-Web(repo)'), ('pengyutang125(user)', 'Mining-the-Social-Web(repo)'), ('zeutrap(user)', 'Mining-the-Social-Web(repo)'), ('tttxxx(user)', 'Mining-the-Social-Web(repo)'), ('sanpingz(user)', 'Mining-the-Social-Web(repo)'), ('onozka(user)', 'Mining-the-Social-Web(repo)'), ('janedallaway(user)', 'Mining-the-Social-Web(repo)'), ('myditto(user)', 'Mining-the-Social-Web(repo)'), ('shyamsingh(user)', 'Mining-the-Social-Web(repo)'), ('liujiantong(user)', 'Mining-the-Social-Web(repo)'), ('jcprandini(user)', 'Mining-the-Social-Web(repo)'), ('ryanoneill(user)', 'Mining-the-Social-Web(repo)'), ('anbrandt(user)', 'Mining-the-Social-Web(repo)'), ('dozean(user)', 'Mining-the-Social-Web(repo)'), ('immersinn(user)', 'Mining-the-Social-Web(repo)'), ('calvdee(user)', 'Mining-the-Social-Web(repo)'), ('tonez(user)', 'Mining-the-Social-Web(repo)'), ('tayashigenori(user)', 'Mining-the-Social-Web(repo)'), ('ssingh10(user)', 'Mining-the-Social-Web(repo)'), ('ackratos(user)', 'Mining-the-Social-Web(repo)'), ('dgleebits(user)', 'Mining-the-Social-Web(repo)'), ('openp2pdesign(user)', 'Mining-the-Social-Web(repo)'), ('pdailey(user)', 'Mining-the-Social-Web(repo)'), ('yankay(user)', 'Mining-the-Social-Web(repo)'), ('chrisapril(user)', 'Mining-the-Social-Web(repo)'), ('icyphoenix(user)', 'Mining-the-Social-Web(repo)'), ('masamik(user)', 'Mining-the-Social-Web(repo)'), ('funwalla(user)', 'Mining-the-Social-Web(repo)'), ('iaind(user)', 'Mining-the-Social-Web(repo)'), ('xinnan(user)', 'Mining-the-Social-Web(repo)'), ('capricasix(user)', 'Mining-the-Social-Web(repo)'), ('aronlindberg(user)', 'Mining-the-Social-Web(repo)'), ('jmorenoamor(user)', 'Mining-the-Social-Web(repo)'), ('lslab(user)', 'Mining-the-Social-Web(repo)'), ('sofianhw(user)', 'Mining-the-Social-Web(repo)'), ('katajuta(user)', 'Mining-the-Social-Web(repo)'), ('ch0psticks(user)', 'Mining-the-Social-Web(repo)'), ('Doomking(user)', 'Mining-the-Social-Web(repo)'), ('mike-grayhat(user)', 'Mining-the-Social-Web(repo)'), ('rsmoz(user)', 'Mining-the-Social-Web(repo)'), ('omoto(user)', 'Mining-the-Social-Web(repo)'), ('okumin(user)', 'Mining-the-Social-Web(repo)'), ('rosco5(user)', 'Mining-the-Social-Web(repo)'), ('kibernick(user)', 'Mining-the-Social-Web(repo)'), ('qianyanseu(user)', 'Mining-the-Social-Web(repo)'), ('tayf(user)', 'Mining-the-Social-Web(repo)'), ('1o55(user)', 'Mining-the-Social-Web(repo)'), ('yhj8341(user)', 'Mining-the-Social-Web(repo)'), ('antiface(user)', 'Mining-the-Social-Web(repo)'), ('theantisofa(user)', 'Mining-the-Social-Web(repo)'), ('azuranop(user)', 'Mining-the-Social-Web(repo)'), ('mtfelix(user)', 'Mining-the-Social-Web(repo)'), ('blackte(user)', 'Mining-the-Social-Web(repo)'), ('jackxu(user)', 'Mining-the-Social-Web(repo)'), ('liang456(user)', 'Mining-the-Social-Web(repo)'), ('kwaibun(user)', 'Mining-the-Social-Web(repo)'), ('albhardy(user)', 'Mining-the-Social-Web(repo)'), ('jdmiranda(user)', 'Mining-the-Social-Web(repo)'), ('m4ngust(user)', 'Mining-the-Social-Web(repo)'), ('darwin31(user)', 'Mining-the-Social-Web(repo)'), ('samuelleach(user)', 'Mining-the-Social-Web(repo)'), ('skibblenybbles(user)', 'Mining-the-Social-Web(repo)'), ('gabstehr(user)', 'Mining-the-Social-Web(repo)'), ('spartakan(user)', 'Mining-the-Social-Web(repo)'), ('sp00(user)', 'Mining-the-Social-Web(repo)'), ('cheekybastard(user)', 'Mining-the-Social-Web(repo)'), ('nipengadmaster(user)', 'Mining-the-Social-Web(repo)'), ('ahill1(user)', 'Mining-the-Social-Web(repo)'), ('oyomei(user)', 'Mining-the-Social-Web(repo)'), ('davni(user)', 'Mining-the-Social-Web(repo)'), ('ysfseu(user)', 'Mining-the-Social-Web(repo)'), ('sffafa(user)', 'Mining-the-Social-Web(repo)'), ('zdogma(user)', 'Mining-the-Social-Web(repo)'), ('tianhaocto(user)', 'Mining-the-Social-Web(repo)'), ('KWMalik(user)', 'Mining-the-Social-Web(repo)'), ('pkrishnaprasad(user)', 'Mining-the-Social-Web(repo)'), ('sumnous(user)', 'Mining-the-Social-Web(repo)'), ('jlmvale(user)', 'Mining-the-Social-Web(repo)'), ('brooklynrob(user)', 'Mining-the-Social-Web(repo)'), ('daveturnbull(user)', 'Mining-the-Social-Web(repo)'), ('Jason-Chan(user)', 'Mining-the-Social-Web(repo)'), ('leonyaa(user)', 'Mining-the-Social-Web(repo)'), ('lingling2012(user)', 'Mining-the-Social-Web(repo)'), ('mohamadhussien(user)', 'Mining-the-Social-Web(repo)'), ('vkurchatkin(user)', 'Mining-the-Social-Web(repo)'), ('lyl7225(user)', 'Mining-the-Social-Web(repo)'), ('yishino22(user)', 'Mining-the-Social-Web(repo)'), ('Eagles2F(user)', 'Mining-the-Social-Web(repo)'), ('yiseul(user)', 'Mining-the-Social-Web(repo)'), ('feedmecookies(user)', 'Mining-the-Social-Web(repo)'), ('hackerway(user)', 'Mining-the-Social-Web(repo)'), ('carlditzler(user)', 'Mining-the-Social-Web(repo)'), ('redswallow(user)', 'Mining-the-Social-Web(repo)'), ('sudheervazrapu(user)', 'Mining-the-Social-Web(repo)'), ('ykakihara(user)', 'Mining-the-Social-Web(repo)'), ('downrightmike(user)', 'Mining-the-Social-Web(repo)'), ('souri(user)', 'Mining-the-Social-Web(repo)'), ('johnthebrave(user)', 'Mining-the-Social-Web(repo)'), ('docete(user)', 'Mining-the-Social-Web(repo)'), ('NikhilKodilkar(user)', 'Mining-the-Social-Web(repo)'), ('extremecasey(user)', 'Mining-the-Social-Web(repo)'), ('IWhisper(user)', 'Mining-the-Social-Web(repo)'), ('gavinmh(user)', 'Mining-the-Social-Web(repo)'), ('amuise(user)', 'Mining-the-Social-Web(repo)'), ('royburns(user)', 'Mining-the-Social-Web(repo)'), ('lmazzon(user)', 'Mining-the-Social-Web(repo)'), ('michalbcz(user)', 'Mining-the-Social-Web(repo)'), ('eyadsibai(user)', 'Mining-the-Social-Web(repo)'), ('ivanfioravanti(user)', 'Mining-the-Social-Web(repo)'), ('flashus(user)', 'Mining-the-Social-Web(repo)'), ('mapio(user)', 'Mining-the-Social-Web(repo)'), ('srspear(user)', 'Mining-the-Social-Web(repo)'), ('microamp(user)', 'Mining-the-Social-Web(repo)'), ('coronin(user)', 'Mining-the-Social-Web(repo)'), ('Arthraim(user)', 'Mining-the-Social-Web(repo)'), ('isnowfy(user)', 'Mining-the-Social-Web(repo)'), ('zhuwenger(user)', 'Mining-the-Social-Web(repo)'), ('wenLiangcan(user)', 'Mining-the-Social-Web(repo)'), ('dineshj1(user)', 'Mining-the-Social-Web(repo)'), ('aviot(user)', 'Mining-the-Social-Web(repo)'), ('haraball(user)', 'Mining-the-Social-Web(repo)'), ('ZoomQuiet(user)', 'Mining-the-Social-Web(repo)'), ('zebpalmer(user)', 'Mining-the-Social-Web(repo)'), ('twneale(user)', 'Mining-the-Social-Web(repo)'), ('phildow(user)', 'Mining-the-Social-Web(repo)'), ('cpyo(user)', 'Mining-the-Social-Web(repo)'), ('lizheming(user)', 'Mining-the-Social-Web(repo)'), ('bigsnarfdude(user)', 'Mining-the-Social-Web(repo)'), ('cyrusin(user)', 'Mining-the-Social-Web(repo)'), ('TaulantRamabaja(user)', 'Mining-the-Social-Web(repo)'), ('csuzhangxc(user)', 'Mining-the-Social-Web(repo)'), ('getnpk(user)', 'Mining-the-Social-Web(repo)'), ('danielmavi(user)', 'Mining-the-Social-Web(repo)'), ('khaing211(user)', 'Mining-the-Social-Web(repo)'), ('rabbit-run(user)', 'Mining-the-Social-Web(repo)'), ('cnunciato(user)', 'Mining-the-Social-Web(repo)'), ('satybald(user)', 'Mining-the-Social-Web(repo)'), ('prashanthmcr(user)', 'Mining-the-Social-Web(repo)'), ('gradetwo(user)', 'Mining-the-Social-Web(repo)'), ('shaobin0604(user)', 'Mining-the-Social-Web(repo)'), ('inkless(user)', 'Mining-the-Social-Web(repo)'), ('velthuis(user)', 'Mining-the-Social-Web(repo)'), ('megansquire(user)', 'Mining-the-Social-Web(repo)'), ('jonathansick(user)', 'Mining-the-Social-Web(repo)'), ('ozgur(user)', 'Mining-the-Social-Web(repo)'), ('sabman(user)', 'Mining-the-Social-Web(repo)'), ('yoghi(user)', 'Mining-the-Social-Web(repo)'), ('johnymontana(user)', 'Mining-the-Social-Web(repo)'), ('waleking(user)', 'Mining-the-Social-Web(repo)'), ('ocowchun(user)', 'Mining-the-Social-Web(repo)'), ('azarbakht(user)', 'Mining-the-Social-Web(repo)'), ('guoylyy(user)', 'Mining-the-Social-Web(repo)'), ('umaar(user)', 'Mining-the-Social-Web(repo)'), ('shockley(user)', 'Mining-the-Social-Web(repo)'), ('caryhague(user)', 'Mining-the-Social-Web(repo)'), ('arianpasquali(user)', 'Mining-the-Social-Web(repo)'), ('vfulco(user)', 'Mining-the-Social-Web(repo)'), ('kiogo(user)', 'Mining-the-Social-Web(repo)'), ('mtchang(user)', 'Mining-the-Social-Web(repo)'), ('ywdong(user)', 'Mining-the-Social-Web(repo)'), ('wangqi(user)', 'Mining-the-Social-Web(repo)'), ('enriquesanchezb(user)', 'Mining-the-Social-Web(repo)'), ('chishaku(user)', 'Mining-the-Social-Web(repo)'), ('valdergallo(user)', 'Mining-the-Social-Web(repo)'), ('divyakkm(user)', 'Mining-the-Social-Web(repo)'), ('sungis(user)', 'Mining-the-Social-Web(repo)'), ('parama(user)', 'Mining-the-Social-Web(repo)'), ('kjelly(user)', 'Mining-the-Social-Web(repo)'), ('LebronKodan(user)', 'Mining-the-Social-Web(repo)'), ('willddy(user)', 'Mining-the-Social-Web(repo)'), ('menorki(user)', 'Mining-the-Social-Web(repo)'), ('lvwangbeta(user)', 'Mining-the-Social-Web(repo)'), ('daimajia(user)', 'Mining-the-Social-Web(repo)'), ('chengdujin(user)', 'Mining-the-Social-Web(repo)'), ('chharish(user)', 'Mining-the-Social-Web(repo)'), ('jingle(user)', 'Mining-the-Social-Web(repo)'), ('disappearedgod(user)', 'Mining-the-Social-Web(repo)'), ('NikGero(user)', 'Mining-the-Social-Web(repo)'), ('clarecorthell(user)', 'Mining-the-Social-Web(repo)'), ('subasish(user)', 'Mining-the-Social-Web(repo)'), ('mkdotam(user)', 'Mining-the-Social-Web(repo)'), ('campeterson(user)', 'Mining-the-Social-Web(repo)'), ('toori67(user)', 'Mining-the-Social-Web(repo)'), ('cchamma(user)', 'Mining-the-Social-Web(repo)'), ('Brhett(user)', 'Mining-the-Social-Web(repo)'), ('likaiguo(user)', 'Mining-the-Social-Web(repo)'), ('forrest001(user)', 'Mining-the-Social-Web(repo)'), ('chc170(user)', 'Mining-the-Social-Web(repo)'), ('oskar-j(user)', 'Mining-the-Social-Web(repo)'), ('liuyix(user)', 'Mining-the-Social-Web(repo)'), ('rohithadassanayake(user)', 'Mining-the-Social-Web(repo)'), ('PittyXu(user)', 'Mining-the-Social-Web(repo)'), ('lovej(user)', 'Mining-the-Social-Web(repo)'), ('arnab-chakrabarti(user)', 'Mining-the-Social-Web(repo)'), ('booyildirim(user)', 'Mining-the-Social-Web(repo)'), ('jph98(user)', 'Mining-the-Social-Web(repo)'), ('gracaninja(user)', 'Mining-the-Social-Web(repo)'), ('soumyasd(user)', 'Mining-the-Social-Web(repo)'), ('antiviruser(user)', 'Mining-the-Social-Web(repo)'), ('zeristor(user)', 'Mining-the-Social-Web(repo)'), ('jasonyaowu(user)', 'Mining-the-Social-Web(repo)'), ('wangrn(user)', 'Mining-the-Social-Web(repo)'), ('shahkushan1(user)', 'Mining-the-Social-Web(repo)'), ('hisakato(user)', 'Mining-the-Social-Web(repo)'), ('zihaolucky(user)', 'Mining-the-Social-Web(repo)'), ('twistdroach(user)', 'Mining-the-Social-Web(repo)'), ('slimsymphony(user)', 'Mining-the-Social-Web(repo)'), ('jfca(user)', 'Mining-the-Social-Web(repo)'), ('elidupuis(user)', 'Mining-the-Social-Web(repo)'), ('gcavallanti(user)', 'Mining-the-Social-Web(repo)'), ('samuel(user)', 'Mining-the-Social-Web(repo)'), ('cobblest(user)', 'Mining-the-Social-Web(repo)'), ('ethanhu(user)', 'Mining-the-Social-Web(repo)'), ('holys(user)', 'Mining-the-Social-Web(repo)'), ('beinvest(user)', 'Mining-the-Social-Web(repo)'), ('tankle(user)', 'Mining-the-Social-Web(repo)'), ('eujinkim(user)', 'Mining-the-Social-Web(repo)'), ('qxde01(user)', 'Mining-the-Social-Web(repo)'), ('lucassbgomes(user)', 'Mining-the-Social-Web(repo)'), ('paulhoule(user)', 'Mining-the-Social-Web(repo)'), ('bowenli37(user)', 'Mining-the-Social-Web(repo)'), ('carlplant(user)', 'Mining-the-Social-Web(repo)'), ('ykxpb(user)', 'Mining-the-Social-Web(repo)'), ('babumathew(user)', 'Mining-the-Social-Web(repo)'), ('zhenv5(user)', 'Mining-the-Social-Web(repo)'), ('rossant(user)', 'Mining-the-Social-Web(repo)'), ('yxlwfds(user)', 'Mining-the-Social-Web(repo)'), ('danieljjh(user)', 'Mining-the-Social-Web(repo)'), ('henri-nourel(user)', 'Mining-the-Social-Web(repo)'), ('fcojperez(user)', 'Mining-the-Social-Web(repo)'), ('tokestermw(user)', 'Mining-the-Social-Web(repo)'), ('lsevero(user)', 'Mining-the-Social-Web(repo)'), ('mgalushka(user)', 'Mining-the-Social-Web(repo)'), ('Erict19(user)', 'Mining-the-Social-Web(repo)'), ('fakber(user)', 'Mining-the-Social-Web(repo)'), ('mattharrison(user)', 'Mining-the-Social-Web(repo)'), ('slaporte(user)', 'Mining-the-Social-Web(repo)'), ('WoeseDevelopers(user)', 'Mining-the-Social-Web(repo)'), ('lixiaojun(user)', 'Mining-the-Social-Web(repo)'), ('hupili(user)', 'Mining-the-Social-Web(repo)'), ('allen3921(user)', 'Mining-the-Social-Web(repo)'), ('Thawab(user)', 'Mining-the-Social-Web(repo)'), ('bcho(user)', 'Mining-the-Social-Web(repo)'), ('ironico(user)', 'Mining-the-Social-Web(repo)'), ('rickixie(user)', 'Mining-the-Social-Web(repo)'), ('defcyy(user)', 'Mining-the-Social-Web(repo)'), ('chunkplus(user)', 'Mining-the-Social-Web(repo)'), ('h2rd(user)', 'Mining-the-Social-Web(repo)'), ('Derick13(user)', 'Mining-the-Social-Web(repo)'), ('mduering(user)', 'Mining-the-Social-Web(repo)'), ('timelyportfolio(user)', 'Mining-the-Social-Web(repo)'), ('hellysmile(user)', 'Mining-the-Social-Web(repo)'), ('sakares(user)', 'Mining-the-Social-Web(repo)'), ('joeywen(user)', 'Mining-the-Social-Web(repo)'), ('FGRibreau(user)', 'Mining-the-Social-Web(repo)'), ('temberature(user)', 'Mining-the-Social-Web(repo)'), ('brycepj(user)', 'Mining-the-Social-Web(repo)'), ('callard(user)', 'Mining-the-Social-Web(repo)'), ('sc268(user)', 'Mining-the-Social-Web(repo)'), ('akton(user)', 'Mining-the-Social-Web(repo)'), ('maxtheman(user)', 'Mining-the-Social-Web(repo)'), ('coodoing(user)', 'Mining-the-Social-Web(repo)'), ('yicaoyimu(user)', 'Mining-the-Social-Web(repo)'), ('chilijung(user)', 'Mining-the-Social-Web(repo)'), ('lifeforaiur(user)', 'Mining-the-Social-Web(repo)'), ('cjf4(user)', 'Mining-the-Social-Web(repo)'), ('yeeyou(user)', 'Mining-the-Social-Web(repo)'), ('Geek4IT(user)', 'Mining-the-Social-Web(repo)'), ('softpurkelly(user)', 'Mining-the-Social-Web(repo)'), ('zhaodylan(user)', 'Mining-the-Social-Web(repo)'), ('skyserpent(user)', 'Mining-the-Social-Web(repo)'), ('ChrisMcKee(user)', 'Mining-the-Social-Web(repo)'), ('zavg(user)', 'Mining-the-Social-Web(repo)'), ('whuwy(user)', 'Mining-the-Social-Web(repo)'), ('omarayad1(user)', 'Mining-the-Social-Web(repo)'), ('anylzer(user)', 'Mining-the-Social-Web(repo)'), ('charlesgavin(user)', 'Mining-the-Social-Web(repo)'), ('lizbew(user)', 'Mining-the-Social-Web(repo)'), ('dayu321(user)', 'Mining-the-Social-Web(repo)'), ('bertomartin(user)', 'Mining-the-Social-Web(repo)'), ('sabanana(user)', 'Mining-the-Social-Web(repo)'), ('Bllee(user)', 'Mining-the-Social-Web(repo)'), ('hisuley(user)', 'Mining-the-Social-Web(repo)'), ('bgriffen(user)', 'Mining-the-Social-Web(repo)'), ('stepmr(user)', 'Mining-the-Social-Web(repo)'), ('indiejoseph(user)', 'Mining-the-Social-Web(repo)'), ('tracyliang18(user)', 'Mining-the-Social-Web(repo)'), ('Tvli(user)', 'Mining-the-Social-Web(repo)'), ('PowChow(user)', 'Mining-the-Social-Web(repo)'), ('srikanth-npcompete(user)', 'Mining-the-Social-Web(repo)'), ('mountcrow(user)', 'Mining-the-Social-Web(repo)'), ('heptal(user)', 'Mining-the-Social-Web(repo)'), ('apitts(user)', 'Mining-the-Social-Web(repo)'), ('milmazz(user)', 'Mining-the-Social-Web(repo)'), ('ahmdrefat(user)', 'Mining-the-Social-Web(repo)'), ('AshBT(user)', 'Mining-the-Social-Web(repo)'), ('blu-elephant(user)', 'Mining-the-Social-Web(repo)'), ('skotwani(user)', 'Mining-the-Social-Web(repo)'), ('yujinw(user)', 'Mining-the-Social-Web(repo)'), ('capitolmuckrakr(user)', 'Mining-the-Social-Web(repo)'), ('screaming(user)', 'Mining-the-Social-Web(repo)'), ('miyaso(user)', 'Mining-the-Social-Web(repo)'), ('mchoimis(user)', 'Mining-the-Social-Web(repo)'), ('LucianaLu(user)', 'Mining-the-Social-Web(repo)'), ('stevencoding(user)', 'Mining-the-Social-Web(repo)'), ('chunhuawu(user)', 'Mining-the-Social-Web(repo)'), ('kostyll(user)', 'Mining-the-Social-Web(repo)'), ('khurchla(user)', 'Mining-the-Social-Web(repo)'), ('andreypaa(user)', 'Mining-the-Social-Web(repo)'), ('mhaidarhanif(user)', 'Mining-the-Social-Web(repo)'), ('sangeethamuralidharan(user)', 'Mining-the-Social-Web(repo)'), ('singit(user)', 'Mining-the-Social-Web(repo)'), ('momota10(user)', 'Mining-the-Social-Web(repo)'), ('wonderisland(user)', 'Mining-the-Social-Web(repo)'), ('LeandroAlmeida(user)', 'Mining-the-Social-Web(repo)'), ('bolaft(user)', 'Mining-the-Social-Web(repo)'), ('bugkiwi(user)', 'Mining-the-Social-Web(repo)'), ('chengen(user)', 'Mining-the-Social-Web(repo)'), ('boringmachine(user)', 'Mining-the-Social-Web(repo)'), ('shuxue051(user)', 'Mining-the-Social-Web(repo)'), ('yul11a(user)', 'Mining-the-Social-Web(repo)'), ('jlcarvalho(user)', 'Mining-the-Social-Web(repo)'), ('umang94(user)', 'Mining-the-Social-Web(repo)'), ('shancci(user)', 'Mining-the-Social-Web(repo)'), ('ljdawn(user)', 'Mining-the-Social-Web(repo)'), ('wuhao4u(user)', 'Mining-the-Social-Web(repo)'), ('mychen-ustc(user)', 'Mining-the-Social-Web(repo)'), ('jeffmaxton(user)', 'Mining-the-Social-Web(repo)'), ('flyer103(user)', 'Mining-the-Social-Web(repo)'), ('ggarlic(user)', 'Mining-the-Social-Web(repo)'), ('yellowBirdy(user)', 'Mining-the-Social-Web(repo)'), ('NandoKstroNet(user)', 'Mining-the-Social-Web(repo)'), ('wendyran(user)', 'Mining-the-Social-Web(repo)'), ('Fansion(user)', 'Mining-the-Social-Web(repo)'), ('PendletonJones(user)', 'Mining-the-Social-Web(repo)'), ('nordhuang(user)', 'Mining-the-Social-Web(repo)'), ('jgarza(user)', 'Mining-the-Social-Web(repo)'), ('andrei-ribeiro-wenceslau(user)', 'Mining-the-Social-Web(repo)'), ('Alexoner(user)', 'Mining-the-Social-Web(repo)'), ('bigsml(user)', 'Mining-the-Social-Web(repo)'), ('NapalmHorn(user)', 'Mining-the-Social-Web(repo)'), ('mrblack555(user)', 'Mining-the-Social-Web(repo)'), ('jonathan-bower(user)', 'Mining-the-Social-Web(repo)'), ('B-Rich(user)', 'Mining-the-Social-Web(repo)'), ('astergu(user)', 'Mining-the-Social-Web(repo)'), ('timmyshen(user)', 'Mining-the-Social-Web(repo)'), ('springga(user)', 'Mining-the-Social-Web(repo)'), ('yobo000(user)', 'Mining-the-Social-Web(repo)'), ('xuqiang(user)', 'Mining-the-Social-Web(repo)'), ('Jgustavii(user)', 'Mining-the-Social-Web(repo)'), ('aidiss(user)', 'Mining-the-Social-Web(repo)'), ('marctmiller(user)', 'Mining-the-Social-Web(repo)'), ('zaynaib(user)', 'Mining-the-Social-Web(repo)'), ('JimberXin(user)', 'Mining-the-Social-Web(repo)'), ('terry2012(user)', 'Mining-the-Social-Web(repo)'), ('hackrole(user)', 'Mining-the-Social-Web(repo)'), ('huangliang2211(user)', 'Mining-the-Social-Web(repo)'), ('dlkahn(user)', 'Mining-the-Social-Web(repo)'), ('Macolulu(user)', 'Mining-the-Social-Web(repo)'), ('pensz(user)', 'Mining-the-Social-Web(repo)'), ('KwangKa(user)', 'Mining-the-Social-Web(repo)'), ('Buttonwood(user)', 'Mining-the-Social-Web(repo)'), ('zkl94(user)', 'Mining-the-Social-Web(repo)'), ('jatinmistry13(user)', 'Mining-the-Social-Web(repo)'), ('vmirly(user)', 'Mining-the-Social-Web(repo)'), ('douglas-larocca(user)', 'Mining-the-Social-Web(repo)'), ('chaoyangqq(user)', 'Mining-the-Social-Web(repo)'), ('rgtjf(user)', 'Mining-the-Social-Web(repo)'), ('trietptm(user)', 'Mining-the-Social-Web(repo)'), ('chaoticjoy(user)', 'Mining-the-Social-Web(repo)'), ('ZwyAnswer(user)', 'Mining-the-Social-Web(repo)'), ('JGeovani(user)', 'Mining-the-Social-Web(repo)'), ('jodyabney(user)', 'Mining-the-Social-Web(repo)'), ('awb99(user)', 'Mining-the-Social-Web(repo)'), ('sandyleo26(user)', 'Mining-the-Social-Web(repo)'), ('jin-king(user)', 'Mining-the-Social-Web(repo)'), ('jerryyeezus(user)', 'Mining-the-Social-Web(repo)'), ('yuxwmail(user)', 'Mining-the-Social-Web(repo)'), ('RolandAdorjani(user)', 'Mining-the-Social-Web(repo)'), ('wanpiqiao(user)', 'Mining-the-Social-Web(repo)'), ('Zouyiran(user)', 'Mining-the-Social-Web(repo)'), ('eephus101(user)', 'Mining-the-Social-Web(repo)'), ('myhomepc(user)', 'Mining-the-Social-Web(repo)'), ('laixintao(user)', 'Mining-the-Social-Web(repo)'), ('KevinOfNeu(user)', 'Mining-the-Social-Web(repo)'), ('xiaodiu2010(user)', 'Mining-the-Social-Web(repo)'), ('diskang(user)', 'Mining-the-Social-Web(repo)'), ('xxllp(user)', 'Mining-the-Social-Web(repo)'), ('zhurizhe(user)', 'Mining-the-Social-Web(repo)'), ('kadnan(user)', 'Mining-the-Social-Web(repo)'), ('hz2003(user)', 'Mining-the-Social-Web(repo)'), ('maysarax(user)', 'Mining-the-Social-Web(repo)'), ('zhangwenkang(user)', 'Mining-the-Social-Web(repo)'), ('max08(user)', 'Mining-the-Social-Web(repo)'), ('alamsal(user)', 'Mining-the-Social-Web(repo)'), ('website0207(user)', 'Mining-the-Social-Web(repo)'), ('xuxiandi(user)', 'Mining-the-Social-Web(repo)'), ('hohoqi(user)', 'Mining-the-Social-Web(repo)'), ('ichunhui(user)', 'Mining-the-Social-Web(repo)'), ('cenphoenix(user)', 'Mining-the-Social-Web(repo)'), ('ningandma(user)', 'Mining-the-Social-Web(repo)'), ('vulcangz(user)', 'Mining-the-Social-Web(repo)'), ('nimblemachine(user)', 'Mining-the-Social-Web(repo)'), ('mcanthony(user)', 'Mining-the-Social-Web(repo)'), ('allenwangyuan(user)', 'Mining-the-Social-Web(repo)'), ('aarynling(user)', 'Mining-the-Social-Web(repo)'), ('angusshire(user)', 'Mining-the-Social-Web(repo)'), ('Linusp(user)', 'Mining-the-Social-Web(repo)'), ('decadef20(user)', 'Mining-the-Social-Web(repo)'), ('wmelton(user)', 'Mining-the-Social-Web(repo)'), ('togoshige(user)', 'Mining-the-Social-Web(repo)'), ('lillies(user)', 'Mining-the-Social-Web(repo)'), ('ch710798472(user)', 'Mining-the-Social-Web(repo)'), ('BruFFHS(user)', 'Mining-the-Social-Web(repo)'), ('ansion103(user)', 'Mining-the-Social-Web(repo)'), ('ekanol(user)', 'Mining-the-Social-Web(repo)'), ('freemandealer(user)', 'Mining-the-Social-Web(repo)'), ('0x27(user)', 'Mining-the-Social-Web(repo)'), ('hiorws(user)', 'Mining-the-Social-Web(repo)'), ('elviswf(user)', 'Mining-the-Social-Web(repo)'), ('shunwen(user)', 'Mining-the-Social-Web(repo)'), ('844792418(user)', 'Mining-the-Social-Web(repo)'), ('nishant8BITS(user)', 'Mining-the-Social-Web(repo)'), ('shulinway(user)', 'Mining-the-Social-Web(repo)'), ('alfredcai(user)', 'Mining-the-Social-Web(repo)'), ('TheNavish(user)', 'Mining-the-Social-Web(repo)'), ('bazinga777(user)', 'Mining-the-Social-Web(repo)'), ('scorpiohjx(user)', 'Mining-the-Social-Web(repo)'), ('lxj0276(user)', 'Mining-the-Social-Web(repo)'), ('andravasile(user)', 'Mining-the-Social-Web(repo)'), ('MorLong(user)', 'Mining-the-Social-Web(repo)'), ('datomnurdin(user)', 'Mining-the-Social-Web(repo)'), ('geojackass(user)', 'Mining-the-Social-Web(repo)'), ('yanhuaaoaoao(user)', 'Mining-the-Social-Web(repo)'), ('VagrantStory(user)', 'Mining-the-Social-Web(repo)'), ('liuyeliufeng(user)', 'Mining-the-Social-Web(repo)'), ('BillBai(user)', 'Mining-the-Social-Web(repo)'), ('pietrolo(user)', 'Mining-the-Social-Web(repo)'), ('chengcx1019(user)', 'Mining-the-Social-Web(repo)'), ('anneeeee(user)', 'Mining-the-Social-Web(repo)'), ('yangzhandong999(user)', 'Mining-the-Social-Web(repo)'), ('Cerya(user)', 'Mining-the-Social-Web(repo)'), ('liuyihan(user)', 'Mining-the-Social-Web(repo)'), ('futan(user)', 'Mining-the-Social-Web(repo)'), ('fangjq(user)', 'Mining-the-Social-Web(repo)'), ('eojeel(user)', 'Mining-the-Social-Web(repo)'), ('CityFire(user)', 'Mining-the-Social-Web(repo)'), ('deerishi(user)', 'Mining-the-Social-Web(repo)'), ('sunyt(user)', 'Mining-the-Social-Web(repo)'), ('Junshuai-Song(user)', 'Mining-the-Social-Web(repo)'), ('savourylie(user)', 'Mining-the-Social-Web(repo)'), ('neriberto(user)', 'Mining-the-Social-Web(repo)'), ('andrewwxy(user)', 'Mining-the-Social-Web(repo)'), ('paulkfc(user)', 'Mining-the-Social-Web(repo)'), ('cwz8202(user)', 'Mining-the-Social-Web(repo)'), ('DiegoSan1895(user)', 'Mining-the-Social-Web(repo)'), ('Eavie(user)', 'Mining-the-Social-Web(repo)'), ('ryan-w-moore(user)', 'Mining-the-Social-Web(repo)'), ('justanothertechguy(user)', 'Mining-the-Social-Web(repo)'), ('ethan7811(user)', 'Mining-the-Social-Web(repo)'), ('LJ001(user)', 'Mining-the-Social-Web(repo)'), ('zormit(user)', 'Mining-the-Social-Web(repo)'), ('jinalee2531(user)', 'Mining-the-Social-Web(repo)'), ('wmswu(user)', 'Mining-the-Social-Web(repo)'), ('scollection(user)', 'Mining-the-Social-Web(repo)'), ('Stankye(user)', 'Mining-the-Social-Web(repo)'), ('kobalis(user)', 'Mining-the-Social-Web(repo)'), ('numanyilmaz(user)', 'Mining-the-Social-Web(repo)'), ('masa-kato(user)', 'Mining-the-Social-Web(repo)'), ('carlvlewis(user)', 'Mining-the-Social-Web(repo)'), ('uetchy(user)', 'Mining-the-Social-Web(repo)'), ('shanghai-Jerry(user)', 'Mining-the-Social-Web(repo)'), ('guoxiaoding(user)', 'Mining-the-Social-Web(repo)'), ('gnqm(user)', 'Mining-the-Social-Web(repo)'), ('huangxi668(user)', 'Mining-the-Social-Web(repo)'), ('Sophie521(user)', 'Mining-the-Social-Web(repo)'), ('ken-ton(user)', 'Mining-the-Social-Web(repo)'), ('elbasha751(user)', 'Mining-the-Social-Web(repo)'), ('RahilKaul(user)', 'Mining-the-Social-Web(repo)'), ('lzsdodo(user)', 'Mining-the-Social-Web(repo)'), ('pentium3(user)', 'Mining-the-Social-Web(repo)'), ('qweee(user)', 'Mining-the-Social-Web(repo)'), ('pedrohserrano(user)', 'Mining-the-Social-Web(repo)'), ('ninilxt(user)', 'Mining-the-Social-Web(repo)'), ('patrickliu95(user)', 'Mining-the-Social-Web(repo)'), ('yinbing668(user)', 'Mining-the-Social-Web(repo)'), ('Satomin2864(user)', 'Mining-the-Social-Web(repo)'), ('Lujango(user)', 'Mining-the-Social-Web(repo)'), ('jasmineeeong(user)', 'Mining-the-Social-Web(repo)'), ('ymn1k(user)', 'Mining-the-Social-Web(repo)'), ('bnerDY(user)', 'Mining-the-Social-Web(repo)'), ('erseyang(user)', 'Mining-the-Social-Web(repo)'), ('ChengjinLi(user)', 'Mining-the-Social-Web(repo)'), ('JacobWK(user)', 'Mining-the-Social-Web(repo)'), ('egorkaru(user)', 'Mining-the-Social-Web(repo)'), ('cl244849315(user)', 'Mining-the-Social-Web(repo)'), ('NexZhu(user)', 'Mining-the-Social-Web(repo)'), ('LawrencePeng(user)', 'Mining-the-Social-Web(repo)'), ('YabinFan(user)', 'Mining-the-Social-Web(repo)'), ('shiftone1001(user)', 'Mining-the-Social-Web(repo)'), ('saosir(user)', 'Mining-the-Social-Web(repo)'), ('IvanaXu(user)', 'Mining-the-Social-Web(repo)'), ('JesusGuzman(user)', 'Mining-the-Social-Web(repo)'), ('archerooo(user)', 'Mining-the-Social-Web(repo)'), ('workspaces(user)', 'Mining-the-Social-Web(repo)'), ('liuqun(user)', 'Mining-the-Social-Web(repo)'), ('machenxi666(user)', 'Mining-the-Social-Web(repo)'), ('byjpr(user)', 'Mining-the-Social-Web(repo)'), ('joeyxluca(user)', 'Mining-the-Social-Web(repo)'), ('zhangscth(user)', 'Mining-the-Social-Web(repo)'), ('Solertis(user)', 'Mining-the-Social-Web(repo)'), ('hirosenokensan(user)', 'Mining-the-Social-Web(repo)'), ('griffinqiu(user)', 'Mining-the-Social-Web(repo)'), ('tanjie123(user)', 'Mining-the-Social-Web(repo)'), ('xiaopang1001(user)', 'Mining-the-Social-Web(repo)'), ('wangle1218(user)', 'Mining-the-Social-Web(repo)'), ('DavidLaoMe(user)', 'Mining-the-Social-Web(repo)'), ('awolfly9(user)', 'Mining-the-Social-Web(repo)'), ('Prateek2901(user)', 'Mining-the-Social-Web(repo)'), ('audijenz(user)', 'Mining-the-Social-Web(repo)'), ('Big2Cat(user)', 'Mining-the-Social-Web(repo)'), ('Vic020(user)', 'Mining-the-Social-Web(repo)'), ('nducoff(user)', 'Mining-the-Social-Web(repo)'), ('ALICE5(user)', 'Mining-the-Social-Web(repo)'), ('uptonking(user)', 'Mining-the-Social-Web(repo)'), ('Rebaiahmed(user)', 'Mining-the-Social-Web(repo)'), ('suhaas(user)', 'Mining-the-Social-Web(repo)'), ('choncan(user)', 'Mining-the-Social-Web(repo)'), ('2tackle(user)', 'Mining-the-Social-Web(repo)'), ('cfwin(user)', 'Mining-the-Social-Web(repo)'), ('samholt(user)', 'Mining-the-Social-Web(repo)'), ('phil8192(user)', 'Mining-the-Social-Web(repo)'), ('SebastianElvis(user)', 'Mining-the-Social-Web(repo)'), ('pandastrail(user)', 'Mining-the-Social-Web(repo)'), ('markstinson(user)', 'Mining-the-Social-Web(repo)'), ('bell06(user)', 'Mining-the-Social-Web(repo)'), ('lonly197(user)', 'Mining-the-Social-Web(repo)'), ('manrajgrover(user)', 'Mining-the-Social-Web(repo)'), ('mehrdad-shokri(user)', 'Mining-the-Social-Web(repo)'), ('bl4ckp4nther(user)', 'Mining-the-Social-Web(repo)'), ('gmftbyGMFTBY(user)', 'Mining-the-Social-Web(repo)'), ('Swapnil2095(user)', 'Mining-the-Social-Web(repo)'), ('amrrs(user)', 'Mining-the-Social-Web(repo)'), ('fmaume(user)', 'Mining-the-Social-Web(repo)'), ('y570pc(user)', 'Mining-the-Social-Web(repo)'), ('tatianaruediger(user)', 'Mining-the-Social-Web(repo)'), ('AtanasiuDemian(user)', 'Mining-the-Social-Web(repo)'), ('MikSDigital(user)', 'Mining-the-Social-Web(repo)'), ('Richie12138(user)', 'Mining-the-Social-Web(repo)'), ('Ward-nju(user)', 'Mining-the-Social-Web(repo)'), ('littleYaoWu(user)', 'Mining-the-Social-Web(repo)'), ('JoeZQ(user)', 'Mining-the-Social-Web(repo)'), ('zhuweijian(user)', 'Mining-the-Social-Web(repo)'), ('DChildsy(user)', 'Mining-the-Social-Web(repo)'), ('xxp17457741(user)', 'Mining-the-Social-Web(repo)'), ('ritahu(user)', 'Mining-the-Social-Web(repo)'), ('wxiaowar(user)', 'Mining-the-Social-Web(repo)'), ('brancengregory(user)', 'Mining-the-Social-Web(repo)'), ('xuezhileikaku(user)', 'Mining-the-Social-Web(repo)'), ('uheeyc(user)', 'Mining-the-Social-Web(repo)'), ('Xsurgeon(user)', 'Mining-the-Social-Web(repo)'), ('wangtaihong(user)', 'Mining-the-Social-Web(repo)'), ('connormai(user)', 'Mining-the-Social-Web(repo)'), ('Hoavy(user)', 'Mining-the-Social-Web(repo)'), ('jhuebner79(user)', 'Mining-the-Social-Web(repo)'), ('goal1234(user)', 'Mining-the-Social-Web(repo)'), ('yuyi-7(user)', 'Mining-the-Social-Web(repo)'), ('zlszhonglongshen(user)', 'Mining-the-Social-Web(repo)'), ('lxxwin(user)', 'Mining-the-Social-Web(repo)'), ('Shi-Linqing-Jason(user)', 'Mining-the-Social-Web(repo)'), ('ImranM847(user)', 'Mining-the-Social-Web(repo)'), ('LinJiarui(user)', 'Mining-the-Social-Web(repo)'), ('lazy-tortoise(user)', 'Mining-the-Social-Web(repo)'), ('femalves(user)', 'Mining-the-Social-Web(repo)'), ('MoZhouting(user)', 'Mining-the-Social-Web(repo)'), ('6shor(user)', 'Mining-the-Social-Web(repo)'), ('HOYINSH(user)', 'Mining-the-Social-Web(repo)'), ('collinsethans(user)', 'Mining-the-Social-Web(repo)'), ('kongshuaifu(user)', 'Mining-the-Social-Web(repo)'), ('soufal(user)', 'Mining-the-Social-Web(repo)'), ('nadoo(user)', 'Mining-the-Social-Web(repo)'), ('mendrezjan(user)', 'Mining-the-Social-Web(repo)'), ('kelsun(user)', 'Mining-the-Social-Web(repo)'), ('callmejacob(user)', 'Mining-the-Social-Web(repo)'), ('LanceZhu(user)', 'Mining-the-Social-Web(repo)'), ('MohammadHeydari(user)', 'Mining-the-Social-Web(repo)'), ('basic-bgnr(user)', 'Mining-the-Social-Web(repo)'), ('Kastrcn(user)', 'Mining-the-Social-Web(repo)'), ('boyuan-li(user)', 'Mining-the-Social-Web(repo)'), ('RandomVar(user)', 'Mining-the-Social-Web(repo)'), ('hebeiweiliang(user)', 'Mining-the-Social-Web(repo)'), ('a865143034(user)', 'Mining-the-Social-Web(repo)'), ('haiqinggatech(user)', 'Mining-the-Social-Web(repo)'), ('professor98911(user)', 'Mining-the-Social-Web(repo)'), ('brookxs(user)', 'Mining-the-Social-Web(repo)'), ('tennessine(user)', 'Mining-the-Social-Web(repo)'), ('xlxyearning(user)', 'Mining-the-Social-Web(repo)'), ('wanganhong(user)', 'Mining-the-Social-Web(repo)'), ('MichaelWayneLIU(user)', 'Mining-the-Social-Web(repo)'), ('kelly-lee(user)', 'Mining-the-Social-Web(repo)'), ('djp82645(user)', 'Mining-the-Social-Web(repo)'), ('kangkot(user)', 'Mining-the-Social-Web(repo)'), ('lazlopeabody(user)', 'Mining-the-Social-Web(repo)'), ('helf1986(user)', 'Mining-the-Social-Web(repo)'), ('vanceeasleaf(user)', 'Mining-the-Social-Web(repo)'), ('slyrx(user)', 'Mining-the-Social-Web(repo)'), ('sdcwlfx(user)', 'Mining-the-Social-Web(repo)'), ('weikeqin(user)', 'Mining-the-Social-Web(repo)'), ('emrekesici(user)', 'Mining-the-Social-Web(repo)'), ('dembyp(user)', 'Mining-the-Social-Web(repo)'), ('GaryLz(user)', 'Mining-the-Social-Web(repo)'), ('gvvynplaine(user)', 'Mining-the-Social-Web(repo)'), ('kk2048(user)', 'Mining-the-Social-Web(repo)'), ('DanielPetelin(user)', 'Mining-the-Social-Web(repo)'), ('xdh5(user)', 'Mining-the-Social-Web(repo)'), ('staticnull(user)', 'Mining-the-Social-Web(repo)'), ('Tibbarr(user)', 'Mining-the-Social-Web(repo)'), ('RichardLiew(user)', 'Mining-the-Social-Web(repo)'), ('albertleng(user)', 'Mining-the-Social-Web(repo)'), ('Hellpauer(user)', 'Mining-the-Social-Web(repo)'), ('Eatingfood88(user)', 'Mining-the-Social-Web(repo)'), ('kirka1206(user)', 'Mining-the-Social-Web(repo)'), ('commonrom(user)', 'Mining-the-Social-Web(repo)'), ('s3afroze(user)', 'Mining-the-Social-Web(repo)'), ('annabechang(user)', 'Mining-the-Social-Web(repo)'), ('dmgolembiowski(user)', 'Mining-the-Social-Web(repo)'), ('Dennis055(user)', 'Mining-the-Social-Web(repo)'), ('rhps(user)', 'Mining-the-Social-Web(repo)'), ('MarkShen1992(user)', 'Mining-the-Social-Web(repo)'), ('leo459028(user)', 'Mining-the-Social-Web(repo)'), ('cordell782(user)', 'Mining-the-Social-Web(repo)'), ('dsheng(user)', 'Mining-the-Social-Web(repo)'), ('lele012(user)', 'Mining-the-Social-Web(repo)'), ('projjal1(user)', 'Mining-the-Social-Web(repo)')]\n",
      "[]\n"
     ]
    }
   ],
   "source": [
    "# Poke around in the current graph to get a better feel for how NetworkX works\n",
    "\n",
    "print (nx.info(g))\n",
    "print()\n",
    "print (g.node['Mining-the-Social-Web(repo)'])\n",
    "print (g.node['ptwobrussell(user)'])\n",
    "print()\n",
    "print (g['ptwobrussell(user)']['Mining-the-Social-Web(repo)'])\n",
    "# The next line would throw a KeyError since no such edge exists:\n",
    "# print g['Mining-the-Social-Web(repo)']['ptwobrussell(user)']\n",
    "print()\n",
    "print (g['ptwobrussell(user)'])\n",
    "print (g['Mining-the-Social-Web(repo)'])\n",
    "print()\n",
    "print (g.in_edges(['ptwobrussell(user)']))\n",
    "print (g.out_edges(['ptwobrussell(user)']))\n",
    "print()\n",
    "print (g.in_edges(['Mining-the-Social-Web(repo)']))\n",
    "print (g.out_edges(['Mining-the-Social-Web(repo)']))"
   ]
  },
  {
   "cell_type": "markdown",
   "metadata": {},
   "source": [
    "## Example 7. Calculating degree, betweenness, and closeness centrality measures on the Krackhardt kite graph"
   ]
  },
  {
   "cell_type": "code",
   "execution_count": 17,
   "metadata": {
    "collapsed": false
   },
   "outputs": [
    {
     "data": {
      "text/html": [
       "<img src=\"resources/ch07-github/kite-graph.png\" width=\"400px\">"
      ],
      "text/plain": [
       "<IPython.core.display.HTML object>"
      ]
     },
     "metadata": {},
     "output_type": "display_data"
    },
    {
     "name": "stdout",
     "output_type": "stream",
     "text": [
      "Degree Centrality\n",
      "[(3, 0.6666666666666666), (5, 0.5555555555555556), (6, 0.5555555555555556), (0, 0.4444444444444444), (1, 0.4444444444444444), (2, 0.3333333333333333), (4, 0.3333333333333333), (7, 0.3333333333333333), (8, 0.2222222222222222), (9, 0.1111111111111111)]\n",
      "\n",
      "Betweenness Centrality\n",
      "[(7, 0.38888888888888884), (5, 0.23148148148148148), (6, 0.23148148148148148), (8, 0.2222222222222222), (3, 0.10185185185185183), (0, 0.023148148148148143), (1, 0.023148148148148143), (2, 0.0), (4, 0.0), (9, 0.0)]\n",
      "\n",
      "Closeness Centrality\n",
      "[(5, 0.6428571428571429), (6, 0.6428571428571429), (3, 0.6), (7, 0.6), (0, 0.5294117647058824), (1, 0.5294117647058824), (2, 0.5), (4, 0.5), (8, 0.42857142857142855), (9, 0.3103448275862069)]\n"
     ]
    }
   ],
   "source": [
    "from operator import itemgetter\n",
    "from IPython.display import HTML\n",
    "from IPython.core.display import display\n",
    "\n",
    "display(HTML('<img src=\"resources/ch07-github/kite-graph.png\" width=\"400px\">'))\n",
    "\n",
    "# The classic Krackhardt kite graph\n",
    "kkg = nx.generators.small.krackhardt_kite_graph()\n",
    "\n",
    "print (\"Degree Centrality\")\n",
    "print (sorted(nx.degree_centrality(kkg).items(), \n",
    "             key=itemgetter(1), reverse=True))\n",
    "print()\n",
    "\n",
    "print (\"Betweenness Centrality\")\n",
    "print (sorted(nx.betweenness_centrality(kkg).items(), \n",
    "             key=itemgetter(1), reverse=True))\n",
    "print()\n",
    "\n",
    "print (\"Closeness Centrality\")\n",
    "print (sorted(nx.closeness_centrality(kkg).items(), \n",
    "             key=itemgetter(1), reverse=True))"
   ]
  },
  {
   "cell_type": "markdown",
   "metadata": {},
   "source": [
    "## Example 8. Adding additional interest edges to the graph through the inclusion of \"follows\" edges"
   ]
  },
  {
   "cell_type": "code",
   "execution_count": 19,
   "metadata": {
    "collapsed": false
   },
   "outputs": [
    {
     "name": "stdout",
     "output_type": "stream",
     "text": [
      "Processed 1  stargazers. Num nodes/edges in graph 1197 / 1299\n",
      "Rate limit remaining (4859, 5000)\n",
      "Processed 2  stargazers. Num nodes/edges in graph 1197 / 1299\n",
      "Rate limit remaining (4858, 5000)\n",
      "Processed 3  stargazers. Num nodes/edges in graph 1197 / 1299\n",
      "Rate limit remaining (4857, 5000)\n",
      "Processed 4  stargazers. Num nodes/edges in graph 1197 / 1299\n",
      "Rate limit remaining (4855, 5000)\n",
      "Processed 5  stargazers. Num nodes/edges in graph 1197 / 1299\n",
      "Rate limit remaining (4854, 5000)\n"
     ]
    }
   ],
   "source": [
    "# Add (social) edges from the stargazers' followers. This can take a while \n",
    "# because of all of the potential API calls to GitHub. The approximate number\n",
    "# of requests for followers for each iteration of this loop can be calculated as\n",
    "# math.ceil(sg.get_followers() / 100.0) per the API returning up to 100 items\n",
    "# at a time.\n",
    "\n",
    "import sys\n",
    "\n",
    "for i, sg in enumerate(stargazers[:5]):\n",
    "    \n",
    "    # Add \"follows\" edges between stargazers in the graph if any relationships exist\n",
    "    try:\n",
    "        for follower in sg.get_followers():\n",
    "            if follower.login + '(user)' in g:\n",
    "                g.add_edge(follower.login + '(user)', sg.login + '(user)', \n",
    "                           type='follows')\n",
    "    except: #ssl.SSLError\n",
    "        print >> sys.stderr, \"Encountered an error fetching followers for\", \\\n",
    "                             sg.login, \"Skipping.\"\n",
    "        print >> sys.stderr, e\n",
    "\n",
    "    print (\"Processed\", i+1, \" stargazers. Num nodes/edges in graph\", \\\n",
    "          g.number_of_nodes(), \"/\", g.number_of_edges())\n",
    "    print (\"Rate limit remaining\", client.rate_limiting)"
   ]
  },
  {
   "cell_type": "markdown",
   "metadata": {},
   "source": [
    "## Example 9. Exploring the updated graph's \"follows\" edges"
   ]
  },
  {
   "cell_type": "code",
   "execution_count": 22,
   "metadata": {
    "collapsed": false
   },
   "outputs": [
    {
     "name": "stdout",
     "output_type": "stream",
     "text": [
      "Name: \n",
      "Type: DiGraph\n",
      "Number of nodes: 1197\n",
      "Number of edges: 1299\n",
      "Average in degree:   1.0852\n",
      "Average out degree:   1.0852\n",
      "\n",
      "103\n",
      "\n",
      "0\n",
      "\n",
      "[('Mining-the-Social-Web(repo)', 1196), ('angusshire(user)', 36), ('hammer(user)', 18), ('tswicegood(user)', 12), ('VagrantStory(user)', 9), ('mcroydon(user)', 8), ('hoffmann(user)', 6), ('tzuryby(user)', 6), ('trietptm(user)', 6), ('sebasmagri(user)', 5)]\n",
      "\n",
      "0\n",
      "0\n",
      "\n",
      "1\n",
      "0\n",
      "\n",
      "Number of popular users 11\n",
      "Top 10 popular users: [('angusshire(user)', 35), ('VagrantStory(user)', 8), ('trietptm(user)', 5), ('rohithadassanayake(user)', 4), ('douglas(user)', 3), ('abecciu(user)', 2), ('stonegao(user)', 2), ('matagus(user)', 2), ('gawbul(user)', 2), ('jquattrocchi(user)', 2)]\n"
     ]
    }
   ],
   "source": [
    "from operator import itemgetter\n",
    "from collections import Counter\n",
    "\n",
    "# Let's see how many social edges we added since last time.\n",
    "print (nx.info(g))\n",
    "print()\n",
    "\n",
    "# The number of \"follows\" edges is the difference\n",
    "print (len([e for e in dict(g.edges()).items() if e[1]['type'] == 'follows']))\n",
    "print()\n",
    "\n",
    "# The repository owner is possibly one of the more popular users in this graph.\n",
    "print (len([e \n",
    "           for e in dict(g.edges()).items() \n",
    "               if e[1]['type'] == 'follows' and e[0][0] == 'ptwobrussell(user)']))\n",
    "print()\n",
    "\n",
    "# Let's examine the number of adjacent edges to each node\n",
    "print (sorted([n for n in dict(g.degree()).items()], key=itemgetter(1), reverse=True)[:10])\n",
    "print()\n",
    "\n",
    "# Consider the ratio of incoming and outgoing edges for a couple of users with \n",
    "# high node degrees...\n",
    "\n",
    "# A user who follows many but is not followed back by many.\n",
    "\n",
    "print (len(g.out_edges('hcilab(user)')))\n",
    "print (len(g.in_edges('hcilab(user)')))\n",
    "print()\n",
    "\n",
    "# A user who is followed by many but does not follow back.\n",
    "\n",
    "print (len(g.out_edges('ptwobrussell(user)')))\n",
    "print (len(g.in_edges('ptwobrussell(user)')))\n",
    "print()\n",
    "\n",
    "c = Counter([e[0][0] for e in dict(g.edges()).items() if e[1]['type'] == 'follows'])\n",
    "popular_users = [ (u, f) for (u, f) in c.most_common() if f > 1 ]\n",
    "print (\"Number of popular users\", len(popular_users))\n",
    "print (\"Top 10 popular users:\", popular_users[:10])"
   ]
  },
  {
   "cell_type": "markdown",
   "metadata": {},
   "source": [
    "## Example 10. Snapshotting (pickling) the graph's state to disk"
   ]
  },
  {
   "cell_type": "code",
   "execution_count": 23,
   "metadata": {
    "collapsed": false
   },
   "outputs": [],
   "source": [
    "# Save your work by serializing out (pickling) the graph\n",
    "nx.write_gpickle(g, \"gen_files/github.gpickle.1\")\n",
    "\n",
    "# How to restore the graph...\n",
    "# import networkx as nx\n",
    "# g = nx.read_gpickle(\"resources/ch07-github/data/github.gpickle.1\")"
   ]
  },
  {
   "cell_type": "markdown",
   "metadata": {},
   "source": [
    "## Example 11. Applying centrality measures to the interest graph"
   ]
  },
  {
   "cell_type": "code",
   "execution_count": 24,
   "metadata": {
    "collapsed": false
   },
   "outputs": [
    {
     "name": "stdout",
     "output_type": "stream",
     "text": [
      "Degree Centrality\n",
      "[('angusshire(user)', 0.02928870292887029), ('hammer(user)', 0.01422594142259414), ('tswicegood(user)', 0.00920502092050209), ('VagrantStory(user)', 0.0066945606694560665), ('mcroydon(user)', 0.005857740585774058), ('hoffmann(user)', 0.0041841004184100415), ('tzuryby(user)', 0.0041841004184100415), ('trietptm(user)', 0.0041841004184100415), ('sebasmagri(user)', 0.0033472803347280333), ('rohithadassanayake(user)', 0.0033472803347280333)]\n",
      "\n",
      "Betweenness Centrality\n",
      "[('tswicegood(user)', 5.606834731537744e-06), ('mcroydon(user)', 2.803417365768872e-06), ('rdempsey(user)', 0.0), ('frac(user)', 0.0), ('prb(user)', 0.0), ('batasrki(user)', 0.0), ('twleung(user)', 0.0), ('kevinchiu(user)', 0.0), ('nikolay(user)', 0.0), ('ngpestelos(user)', 0.0)]\n",
      "\n",
      "Closeness Centrality\n",
      "[('hammer(user)', 0.014225941422594143), ('tswicegood(user)', 0.009112040911204091), ('mcroydon(user)', 0.007455306200076075), ('hoffmann(user)', 0.0041841004184100415), ('tzuryby(user)', 0.0041841004184100415), ('sebasmagri(user)', 0.0033472803347280333), ('rdempsey(user)', 0.002510460251046025), ('frac(user)', 0.002510460251046025), ('nikolay(user)', 0.002510460251046025), ('ngpestelos(user)', 0.002510460251046025)]\n"
     ]
    }
   ],
   "source": [
    "from operator import itemgetter\n",
    "\n",
    "# Create a copy of the graph so that we can iteratively mutate the copy\n",
    "# as needed for experimentation\n",
    "\n",
    "h = g.copy()\n",
    "\n",
    "# Remove the seed of the interest graph, which is a supernode, in order\n",
    "# to get a better idea of the network dynamics\n",
    "\n",
    "h.remove_node('Mining-the-Social-Web(repo)')\n",
    "\n",
    "# XXX: Remove any other nodes that appear to be supernodes.\n",
    "# Filter any other nodes that you can by threshold\n",
    "# criteria or heuristics from inspection.\n",
    "\n",
    "# Display the centrality measures for the top 10 nodes\n",
    "\n",
    "\n",
    "dc = sorted(nx.degree_centrality(h).items(), \n",
    "            key=itemgetter(1), reverse=True)\n",
    "\n",
    "print (\"Degree Centrality\")\n",
    "print (dc[:10])\n",
    "print()\n",
    "\n",
    "bc = sorted(nx.betweenness_centrality(h).items(), \n",
    "            key=itemgetter(1), reverse=True)\n",
    "\n",
    "print (\"Betweenness Centrality\")\n",
    "print (bc[:10])\n",
    "print()\n",
    "\n",
    "print (\"Closeness Centrality\")\n",
    "cc = sorted(nx.closeness_centrality(h).items(), \n",
    "            key=itemgetter(1), reverse=True)\n",
    "print (cc[:10])"
   ]
  },
  {
   "cell_type": "markdown",
   "metadata": {},
   "source": [
    "## Example 12. Adding starred repositories to the graph"
   ]
  },
  {
   "cell_type": "code",
   "execution_count": 27,
   "metadata": {
    "collapsed": false
   },
   "outputs": [
    {
     "name": "stdout",
     "output_type": "stream",
     "text": [
      "rdempsey\n",
      "Processed 1 stargazers' starred repos\n",
      "Num nodes/edges in graph 1695 / 1797\n",
      "Rate limit (4849, 5000)\n",
      "frac\n",
      "Processed 2 stargazers' starred repos\n",
      "Num nodes/edges in graph 1832 / 1938\n",
      "Rate limit (4847, 5000)\n",
      "prb\n",
      "Processed 3 stargazers' starred repos\n",
      "Num nodes/edges in graph 2010 / 2122\n",
      "Rate limit (4845, 5000)\n",
      "mcroydon\n",
      "Processed 4 stargazers' starred repos\n",
      "Num nodes/edges in graph 2497 / 2621\n",
      "Rate limit (4840, 5000)\n",
      "batasrki\n",
      "Processed 5 stargazers' starred repos\n",
      "Num nodes/edges in graph 2558 / 2690\n",
      "Rate limit (4839, 5000)\n"
     ]
    }
   ],
   "source": [
    "# Let's add each stargazer's additional starred repos and add edges \n",
    "# to find additional interests.\n",
    "\n",
    "MAX_REPOS = 500\n",
    "\n",
    "for i, sg in enumerate(stargazers[:5]):\n",
    "    print (sg.login)\n",
    "    try:\n",
    "        for starred in sg.get_starred()[:MAX_REPOS]: # Slice to avoid supernodes\n",
    "            g.add_node(starred.name + '(repo)', type='repo', lang=starred.language, \\\n",
    "                       owner=starred.owner.login)\n",
    "            g.add_edge(sg.login + '(user)', starred.name + '(repo)', type='gazes')\n",
    "    except: #ssl.SSLError:\n",
    "        print (\"Encountered an error fetching starred repos for\", sg.login, \"Skipping.\")\n",
    "\n",
    "    print (\"Processed\", i+1, \"stargazers' starred repos\")\n",
    "    print (\"Num nodes/edges in graph\", g.number_of_nodes(), \"/\", g.number_of_edges())\n",
    "    print (\"Rate limit\", client.rate_limiting)"
   ]
  },
  {
   "cell_type": "markdown",
   "metadata": {},
   "source": [
    "**NOTE: Given that Example 12 is potentially a very time-consuming example to run, be sure to snapshot your work**"
   ]
  },
  {
   "cell_type": "code",
   "execution_count": 28,
   "metadata": {
    "collapsed": false
   },
   "outputs": [],
   "source": [
    "# Save your work by serializing out another snapshot of the graph\n",
    "nx.write_gpickle(g, \"gen_files/github.gpickle.2\")\n",
    "\n",
    "#import networkx as nx\n",
    "#g = nx.read_gpickle(\"resources/ch07-github/data/github.gpickle.2\")"
   ]
  },
  {
   "cell_type": "markdown",
   "metadata": {},
   "source": [
    "Consider analysis similar to _Example 12_ here. Create a copy of the graph and be selective in pruning it or extracting subgraphs of interst."
   ]
  },
  {
   "cell_type": "markdown",
   "metadata": {},
   "source": [
    "## Example 13. Exploring the graph after updates with additional starred repositories"
   ]
  },
  {
   "cell_type": "code",
   "execution_count": 34,
   "metadata": {
    "collapsed": false
   },
   "outputs": [
    {
     "name": "stdout",
     "output_type": "stream",
     "text": [
      "Name: \n",
      "Type: DiGraph\n",
      "Number of nodes: 2558\n",
      "Number of edges: 2690\n",
      "Average in degree:   1.0516\n",
      "Average out degree:   1.0516\n",
      "\n",
      "Popular repositories\n",
      "[('Mining-the-Social-Web(repo)', 1196), ('system-design-primer(repo)', 3), ('prophet(repo)', 2), ('Apriori(repo)', 2), ('elasticsearch-dsl-py(repo)', 2), ('sounder(repo)', 2), ('pix2code(repo)', 2), ('sanic(repo)', 2), ('ctop(repo)', 2), ('models(repo)', 2)]\n",
      "\n",
      "Respositories that ptwobrussell has bookmarked\n",
      "[('Mining-the-Social-Web(repo)', 'JavaScript')]\n",
      "\n",
      "Programming languages ptwobrussell is interested in\n",
      "['JavaScript']\n",
      "\n",
      "Supernode candidates\n",
      "[('mcroydon(user)', 501)]\n"
     ]
    }
   ],
   "source": [
    "# Poke around: how to get users/repos\n",
    "from operator import itemgetter\n",
    "\n",
    "print (nx.info(g))\n",
    "print()\n",
    "\n",
    "# Get a list of repositories from the graph.\n",
    "\n",
    "repos = [n for n in g.node() if g.node[n]['type'] == 'repo']\n",
    "\n",
    "# Most popular repos\n",
    "\n",
    "print (\"Popular repositories\")\n",
    "print (sorted([(n,d) \n",
    "              for (n,d) in g.degree() \n",
    "                  if g.node[n]['type'] == 'repo'], \\\n",
    "             key=itemgetter(1), reverse=True)[:10])\n",
    "print()\n",
    "\n",
    "# Projects gazed at by a user\n",
    "\n",
    "print (\"Respositories that ptwobrussell has bookmarked\")\n",
    "print ([(n,g.node[n]['lang']) \n",
    "       for n in g['ptwobrussell(user)'] \n",
    "           if g['ptwobrussell(user)'][n]['type'] == 'gazes'])\n",
    "print()\n",
    "\n",
    "# Programming languages for each user\n",
    "\n",
    "print (\"Programming languages ptwobrussell is interested in\")\n",
    "print (list(set([g.node[n]['lang'] \n",
    "                for n in g['ptwobrussell(user)'] \n",
    "                    if g['ptwobrussell(user)'][n]['type'] == 'gazes'])))\n",
    "print()\n",
    "\n",
    "# Find supernodes in the graph by approximating with a high number of \n",
    "# outgoing edges\n",
    "\n",
    "print (\"Supernode candidates\")\n",
    "print (sorted([(n, len(g.out_edges(n))) \n",
    "              for n in g.node()\n",
    "                  if g.node[n]['type'] == 'user' and len(g.out_edges(n)) > 500], \\\n",
    "             key=itemgetter(1), reverse=True))"
   ]
  },
  {
   "cell_type": "markdown",
   "metadata": {},
   "source": [
    "## Example 14. Updating the graph to include nodes for programming languages"
   ]
  },
  {
   "cell_type": "code",
   "execution_count": 40,
   "metadata": {
    "collapsed": false
   },
   "outputs": [
    {
     "ename": "AttributeError",
     "evalue": "'DiGraph' object has no attribute 'in_edge'",
     "output_type": "error",
     "traceback": [
      "\u001b[1;31m---------------------------------------------------------------------------\u001b[0m",
      "\u001b[1;31mAttributeError\u001b[0m                            Traceback (most recent call last)",
      "\u001b[1;32m<ipython-input-40-3a1f7536644b>\u001b[0m in \u001b[0;36m<module>\u001b[1;34m\u001b[0m\n\u001b[0;32m     11\u001b[0m \u001b[1;33m\u001b[0m\u001b[0m\n\u001b[0;32m     12\u001b[0m     stargazers = [u \n\u001b[1;32m---> 13\u001b[1;33m                   \u001b[1;32mfor\u001b[0m \u001b[1;33m(\u001b[0m\u001b[0mu\u001b[0m\u001b[1;33m,\u001b[0m \u001b[0mr\u001b[0m\u001b[1;33m,\u001b[0m \u001b[0md\u001b[0m\u001b[1;33m)\u001b[0m \u001b[1;32min\u001b[0m \u001b[0mg\u001b[0m\u001b[1;33m.\u001b[0m\u001b[0min_edge\u001b[0m\u001b[1;33m(\u001b[0m\u001b[1;33m)\u001b[0m\u001b[1;33m\u001b[0m\u001b[1;33m\u001b[0m\u001b[0m\n\u001b[0m\u001b[0;32m     14\u001b[0m                      \u001b[1;32mif\u001b[0m \u001b[0md\u001b[0m\u001b[1;33m[\u001b[0m\u001b[1;34m'type'\u001b[0m\u001b[1;33m]\u001b[0m \u001b[1;33m==\u001b[0m \u001b[1;34m'gazes'\u001b[0m\u001b[1;33m\u001b[0m\u001b[1;33m\u001b[0m\u001b[0m\n\u001b[0;32m     15\u001b[0m                  ]\n",
      "\u001b[1;31mAttributeError\u001b[0m: 'DiGraph' object has no attribute 'in_edge'"
     ]
    }
   ],
   "source": [
    "# Iterate over all of the repos, and add edges for programming languages \n",
    "# for each person in the graph. We'll also add edges back to repos so that \n",
    "# we have a good point to \"pivot\" upon.\n",
    "\n",
    "repos = [n \n",
    "         for n in g.node()\n",
    "             if g.node[n]['type'] == 'repo']\n",
    "\n",
    "for repo in repos:\n",
    "    lang = (g.node[repo]['lang'] or \"\") + \"(lang)\"\n",
    "    \n",
    "    stargazers = [u \n",
    "                  for (u, r, d) in g.in_edge()\n",
    "                     if d['type'] == 'gazes'\n",
    "                 ]\n",
    "    \n",
    "    for sg in stargazers:\n",
    "        g.add_node(lang, type='lang')\n",
    "        g.add_edge(sg, lang, type='programs')\n",
    "        g.add_edge(lang, repo, type='implements')"
   ]
  },
  {
   "cell_type": "markdown",
   "metadata": {},
   "source": [
    "## Example 15. Sample queries for the final graph"
   ]
  },
  {
   "cell_type": "code",
   "execution_count": 43,
   "metadata": {
    "collapsed": false
   },
   "outputs": [
    {
     "ename": "SyntaxError",
     "evalue": "invalid syntax (<ipython-input-43-3f21afc52ca7>, line 20)",
     "output_type": "error",
     "traceback": [
      "\u001b[1;36m  File \u001b[1;32m\"<ipython-input-43-3f21afc52ca7>\"\u001b[1;36m, line \u001b[1;32m20\u001b[0m\n\u001b[1;33m    print (sorted([(n, g.degree()))\u001b[0m\n\u001b[1;37m                                  ^\u001b[0m\n\u001b[1;31mSyntaxError\u001b[0m\u001b[1;31m:\u001b[0m invalid syntax\n"
     ]
    }
   ],
   "source": [
    "# Some stats\n",
    "\n",
    "print (nx.info(g))\n",
    "print()\n",
    "\n",
    "# What languages exist in the graph?\n",
    "\n",
    "print ([n \n",
    "       for n in g.nodes_iter() \n",
    "           if g.node[n]['type'] == 'lang'])\n",
    "print()\n",
    "\n",
    "# What languages do users program with?\n",
    "print ([n \n",
    "       for n in g['ptwobrussell(user)'] \n",
    "           if g['ptwobrussell(user)'][n]['type'] == 'programs'])\n",
    "\n",
    "# What is the most popular programming language?\n",
    "print (\"Most popular languages\")\n",
    "print (sorted([(n, g.in_degree(n)))\n",
    " for n in g.nodes_iter() \n",
    "     if g.node[n]['type'] == 'lang'], key=itemgetter(1), reverse=True)[:10]\n",
    "print()\n",
    "\n",
    "# How many users program in a particular language?\n",
    "python_programmers = [u \n",
    "                      for (u, l) in g.in_edges_iter('Python(lang)') \n",
    "                          if g.node[u]['type'] == 'user']\n",
    "print (\"Number of Python programmers:\", len(python_programmers))\n",
    "print()\n",
    "\n",
    "javascript_programmers = [u for \n",
    "                          (u, l) in g.in_edges_iter('JavaScript(lang)') \n",
    "                              if g.node[u]['type'] == 'user']\n",
    "print (\"Number of JavaScript programmers:\", len(javascript_programmers))\n",
    "print()\n",
    "\n",
    "# What users program in both Python and JavaScript?\n",
    "print (\"Number of programmers who use JavaScript and Python\")\n",
    "print (len(set(python_programmers).intersection(set(javascript_programmers))))\n",
    "\n",
    "# Programmers who use JavaScript but not Python\n",
    "print (\"Number of programmers who use JavaScript but not Python\"\n",
    "print len(set(javascript_programmers).difference(set(python_programmers)))\n",
    "\n",
    "# XXX: Can you determine who is the most polyglot programmer?"
   ]
  },
  {
   "cell_type": "markdown",
   "metadata": {},
   "source": [
    "**NOTE: Optionally, snapshot the final graph**"
   ]
  },
  {
   "cell_type": "code",
   "execution_count": null,
   "metadata": {
    "collapsed": false
   },
   "outputs": [],
   "source": [
    "# Save your work by serializing out another snapshot of the graph\n",
    "nx.write_gpickle(g, \"resources/ch07-github/data/github.gpickle.3\")\n",
    "\n",
    "#import networkx as nx\n",
    "#g = nx.read_gpickle(\"resources/ch07-github/data/github.gpickle.3\")"
   ]
  },
  {
   "cell_type": "markdown",
   "metadata": {},
   "source": [
    "## Example 16. Graph visualization of the social network for the original interest graph"
   ]
  },
  {
   "cell_type": "code",
   "execution_count": null,
   "metadata": {
    "collapsed": false
   },
   "outputs": [],
   "source": [
    "import os\n",
    "import json\n",
    "from IPython.display import IFrame\n",
    "from IPython.core.display import display\n",
    "from networkx.readwrite import json_graph\n",
    "\n",
    "print \"Stats on the full graph\"\n",
    "print nx.info(g)\n",
    "print\n",
    "\n",
    "# Create a subgraph from a collection of nodes. In this case, the\n",
    "# collection is all of the users in the original interest graph\n",
    "\n",
    "mtsw_users = [n for n in g if g.node[n]['type'] == 'user']\n",
    "h = g.subgraph(mtsw_users)\n",
    "\n",
    "print \"Stats on the extracted subgraph\"\n",
    "print nx.info(h)\n",
    "\n",
    "# Visualize the social network of all people from the original interest graph.\n",
    "\n",
    "d = json_graph.node_link_data(h)\n",
    "json.dump(d, open('resources/ch07-github/force.json', 'w'))\n",
    "\n",
    "\n",
    "# IPython Notebook can serve files and display them into\n",
    "# inline frames. Prepend the path with the 'files' prefix.\n",
    "\n",
    "# A D3 template for displaying the graph data.\n",
    "viz_file = 'files/resources/ch07-github/force.html'\n",
    "\n",
    "# Display the D3 visualization.\n",
    "\n",
    "display(IFrame(viz_file, '100%', '600px'))"
   ]
  }
 ],
 "metadata": {
  "kernelspec": {
   "display_name": "Python 3",
   "language": "python",
   "name": "python3"
  },
  "language_info": {
   "codemirror_mode": {
    "name": "ipython",
    "version": 3
   },
   "file_extension": ".py",
   "mimetype": "text/x-python",
   "name": "python",
   "nbconvert_exporter": "python",
   "pygments_lexer": "ipython3",
   "version": "3.7.3"
  }
 },
 "nbformat": 4,
 "nbformat_minor": 2
}
